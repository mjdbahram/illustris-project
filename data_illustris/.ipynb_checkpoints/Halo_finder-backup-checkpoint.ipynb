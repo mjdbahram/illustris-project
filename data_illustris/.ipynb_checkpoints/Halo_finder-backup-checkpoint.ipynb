{
 "cells": [
  {
   "cell_type": "code",
   "execution_count": 1,
   "metadata": {},
   "outputs": [],
   "source": [
    "import requests\n",
    "import numpy as np\n",
    "import matplotlib.pyplot as plt\n",
    "import h5py"
   ]
  },
  {
   "cell_type": "code",
   "execution_count": 2,
   "metadata": {},
   "outputs": [],
   "source": [
    "def get(path, params=None):\n",
    "    r = requests.get(path, params=params, headers=headers)\n",
    "    r.raise_for_status()\n",
    "    if (r.headers['content-type'] == 'application/json'):\n",
    "        return r.json()\n",
    "    \n",
    "    if ('content-disposition' in r.headers):\n",
    "        filename = r.headers['content-disposition'].split(\"filename=\")[1]\n",
    "        with open(filename, 'wb') as f:\n",
    "            f.write(r.content)\n",
    "        return filename\n",
    "    return r\n"
   ]
  },
  {
   "cell_type": "code",
   "execution_count": 3,
   "metadata": {},
   "outputs": [],
   "source": [
    "baseUrl = 'http://www.illustris-project.org/api/'\n",
    "headers = {\"api-key\":\"79d3daabdc8c4290395780680a4e1107\"}"
   ]
  },
  {
   "cell_type": "code",
   "execution_count": null,
   "metadata": {},
   "outputs": [],
   "source": [
    "url = \"http://www.illustris-project.org/api/Illustris-1/snapshots/z=0/subhalos/\"\n",
    "subhalos = get(url)\n",
    "subhalos['count']\n",
    "\n",
    "\n"
   ]
  },
  {
   "cell_type": "code",
   "execution_count": null,
   "metadata": {},
   "outputs": [],
   "source": [
    "# first convert log solar masses into group catalog units\n",
    "mass_min = 10**11.9 / 1e10 * 0.704\n",
    "mass_max = 10**12.1 / 1e10 * 0.704\n",
    "\n",
    "# form the search_query string by hand for once\n",
    "search_query = \"?mass__gt=\" + str(mass_min) + \"&mass__lt=\" + str(mass_max)\n",
    "\n",
    "# form the url and make the request\n",
    "url = \"http://www.illustris-project.org/api/Illustris-1/snapshots/135/subhalos/\" + search_query\n",
    "subhalos = get(url)\n",
    "subhalos['count']\n"
   ]
  },
  {
   "cell_type": "code",
   "execution_count": null,
   "metadata": {},
   "outputs": [],
   "source": [
    "len(subhalos['results'])"
   ]
  },
  {
   "cell_type": "code",
   "execution_count": null,
   "metadata": {},
   "outputs": [],
   "source": [
    "ids = [ subhalos['results'][i]['id'] for i in range(len(subhalos['results'])) ]\n",
    "ids\n"
   ]
  },
  {
   "cell_type": "code",
   "execution_count": null,
   "metadata": {},
   "outputs": [],
   "source": [
    "sub_count = 1\n",
    "plt.figure(figsize=[15,15])\n",
    "\n",
    "for id in ids:\n",
    "    url = \"http://www.illustris-project.org/api/Illustris-1/snapshots/135/subhalos/\" + str(id)\n",
    "    sub = get(url)\n",
    "    \n",
    "    # it is of course possible this data product does not exist for all requested subhalos\n",
    "    if 'stellar_mocks' in sub['supplementary_data']: \n",
    "        # download PNG image, the version which includes all stars in the FoF halo (try replacing 'fof' with 'gz')\n",
    "        png_url = sub['supplementary_data']['stellar_mocks']['image_gz']\n",
    "        response = get(png_url)\n",
    "        \n",
    "        # make plot a bit nicer\n",
    "        plt.subplot(1,len(ids),sub_count)\n",
    "        plt.text(0,-20,\"ID=\"+str(id),color='blue')\n",
    "        plt.gca().axes.get_xaxis().set_ticks([])\n",
    "        plt.gca().axes.get_yaxis().set_ticks([])\n",
    "        sub_count += 1\n",
    "        \n",
    "        # plot the PNG binary data directly, without actually saving a .png file\n",
    "        file_object = StringIO(response.content)\n",
    "        plt.imsave(\"haloID_\"+str(id)+\".png\", mpimg.imread(file_object))\n",
    "        #plt.imshow(mpimg.imread(file_object))"
   ]
  },
  {
   "cell_type": "code",
   "execution_count": null,
   "metadata": {},
   "outputs": [],
   "source": []
  }
 ],
 "metadata": {
  "kernelspec": {
   "display_name": "Python 3",
   "language": "python",
   "name": "python3"
  },
  "language_info": {
   "codemirror_mode": {
    "name": "ipython",
    "version": 3
   },
   "file_extension": ".py",
   "mimetype": "text/x-python",
   "name": "python",
   "nbconvert_exporter": "python",
   "pygments_lexer": "ipython3",
   "version": "3.7.3"
  }
 },
 "nbformat": 4,
 "nbformat_minor": 2
}
