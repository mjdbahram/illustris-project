{
 "cells": [
  {
   "cell_type": "code",
   "execution_count": 1,
   "metadata": {},
   "outputs": [],
   "source": [
    "import requests\n",
    "import numpy as np\n",
    "import matplotlib.pyplot as plt\n",
    "import h5py\n",
    "import os"
   ]
  },
  {
   "cell_type": "code",
   "execution_count": 2,
   "metadata": {},
   "outputs": [],
   "source": [
    "def get(path, params=None):\n",
    "    r = requests.get(path, params=params, headers=headers)\n",
    "    r.raise_for_status()\n",
    "    if (r.headers['content-type'] == 'application/json'):\n",
    "        return r.json()\n",
    "    \n",
    "    if ('content-disposition' in r.headers):\n",
    "        filename = r.headers['content-disposition'].split(\"filename=\")[1]\n",
    "        with open(filename, 'wb') as f:\n",
    "            f.write(r.content)\n",
    "        return filename\n",
    "    return r\n"
   ]
  },
  {
   "cell_type": "code",
   "execution_count": 3,
   "metadata": {},
   "outputs": [],
   "source": [
    "baseUrl = 'http://www.illustris-project.org/api/'\n",
    "headers = {\"api-key\":\"79d3daabdc8c4290395780680a4e1107\"}"
   ]
  },
  {
   "cell_type": "code",
   "execution_count": 4,
   "metadata": {},
   "outputs": [
    {
     "data": {
      "text/plain": [
       "4366546"
      ]
     },
     "execution_count": 4,
     "metadata": {},
     "output_type": "execute_result"
    }
   ],
   "source": [
    "url = \"http://www.illustris-project.org/api/Illustris-1/snapshots/z=0/subhalos/\"\n",
    "subhalos = get(url)\n",
    "subhalos['count']\n",
    "\n",
    "\n"
   ]
  },
  {
   "cell_type": "code",
   "execution_count": 13,
   "metadata": {
    "scrolled": true
   },
   "outputs": [
    {
     "name": "stdout",
     "output_type": "stream",
     "text": [
      "5\n",
      "10\n",
      "\n",
      "10\n",
      "15\n",
      "\n",
      "15\n",
      "20\n",
      "\n"
     ]
    },
    {
     "ename": "TypeError",
     "evalue": "Can't broadcast (3, 5) -> (3, 10)",
     "output_type": "error",
     "traceback": [
      "\u001b[0;31m---------------------------------------------------------------------------\u001b[0m",
      "\u001b[0;31mTypeError\u001b[0m                                 Traceback (most recent call last)",
      "\u001b[0;32m<ipython-input-13-14bf3f73e9a6>\u001b[0m in \u001b[0;36m<module>\u001b[0;34m\u001b[0m\n\u001b[1;32m     30\u001b[0m         \u001b[0mprint\u001b[0m\u001b[0;34m(\u001b[0m\u001b[0mdset\u001b[0m\u001b[0;34m.\u001b[0m\u001b[0mshape\u001b[0m\u001b[0;34m[\u001b[0m\u001b[0;36m1\u001b[0m\u001b[0;34m]\u001b[0m\u001b[0;34m+\u001b[0m\u001b[0mchunk_size\u001b[0m\u001b[0;34m)\u001b[0m\u001b[0;34m\u001b[0m\u001b[0;34m\u001b[0m\u001b[0m\n\u001b[1;32m     31\u001b[0m         \u001b[0mprint\u001b[0m\u001b[0;34m(\u001b[0m\u001b[0;34m)\u001b[0m\u001b[0;34m\u001b[0m\u001b[0;34m\u001b[0m\u001b[0m\n\u001b[0;32m---> 32\u001b[0;31m         \u001b[0mdset\u001b[0m\u001b[0;34m[\u001b[0m\u001b[0;34m:\u001b[0m\u001b[0;34m,\u001b[0m \u001b[0mchunk_size\u001b[0m\u001b[0;34m-\u001b[0m\u001b[0mi\u001b[0m\u001b[0;34m:\u001b[0m\u001b[0;34m]\u001b[0m \u001b[0;34m=\u001b[0m \u001b[0mnp\u001b[0m\u001b[0;34m.\u001b[0m\u001b[0mrandom\u001b[0m\u001b[0;34m.\u001b[0m\u001b[0mrandom\u001b[0m\u001b[0;34m(\u001b[0m\u001b[0;34m(\u001b[0m\u001b[0;36m3\u001b[0m\u001b[0;34m,\u001b[0m\u001b[0;36m5\u001b[0m\u001b[0;34m)\u001b[0m\u001b[0;34m)\u001b[0m \u001b[0;31m#np.array([subhalo_x_coordinate, subhalo_y_coordinate, subhalo_z_coordinate])\u001b[0m\u001b[0;34m\u001b[0m\u001b[0;34m\u001b[0m\u001b[0m\n\u001b[0m\u001b[1;32m     33\u001b[0m         \u001b[0mdset\u001b[0m\u001b[0;34m.\u001b[0m\u001b[0mresize\u001b[0m\u001b[0;34m(\u001b[0m\u001b[0mdset\u001b[0m\u001b[0;34m.\u001b[0m\u001b[0mshape\u001b[0m\u001b[0;34m[\u001b[0m\u001b[0;36m1\u001b[0m\u001b[0;34m]\u001b[0m\u001b[0;34m+\u001b[0m\u001b[0mchunk_size\u001b[0m\u001b[0;34m,\u001b[0m \u001b[0maxis\u001b[0m\u001b[0;34m=\u001b[0m\u001b[0;36m1\u001b[0m\u001b[0;34m)\u001b[0m\u001b[0;34m\u001b[0m\u001b[0;34m\u001b[0m\u001b[0m\n\u001b[1;32m     34\u001b[0m         \u001b[0msubhalo_x_coordinate\u001b[0m \u001b[0;34m=\u001b[0m \u001b[0;34m[\u001b[0m\u001b[0;34m]\u001b[0m\u001b[0;34m;\u001b[0m \u001b[0msubhalo_y_coordinate\u001b[0m \u001b[0;34m=\u001b[0m \u001b[0;34m[\u001b[0m\u001b[0;34m]\u001b[0m\u001b[0;34m;\u001b[0m \u001b[0msubhalo_z_coordinate\u001b[0m \u001b[0;34m=\u001b[0m \u001b[0;34m[\u001b[0m\u001b[0;34m]\u001b[0m\u001b[0;34m\u001b[0m\u001b[0;34m\u001b[0m\u001b[0m\n",
      "\u001b[0;32mh5py/_objects.pyx\u001b[0m in \u001b[0;36mh5py._objects.with_phil.wrapper\u001b[0;34m()\u001b[0m\n",
      "\u001b[0;32mh5py/_objects.pyx\u001b[0m in \u001b[0;36mh5py._objects.with_phil.wrapper\u001b[0;34m()\u001b[0m\n",
      "\u001b[0;32m~/anaconda3/lib/python3.7/site-packages/h5py/_hl/dataset.py\u001b[0m in \u001b[0;36m__setitem__\u001b[0;34m(self, args, val)\u001b[0m\n\u001b[1;32m    705\u001b[0m             \u001b[0mmshape_pad\u001b[0m \u001b[0;34m=\u001b[0m \u001b[0mmshape\u001b[0m\u001b[0;34m\u001b[0m\u001b[0;34m\u001b[0m\u001b[0m\n\u001b[1;32m    706\u001b[0m         \u001b[0mmspace\u001b[0m \u001b[0;34m=\u001b[0m \u001b[0mh5s\u001b[0m\u001b[0;34m.\u001b[0m\u001b[0mcreate_simple\u001b[0m\u001b[0;34m(\u001b[0m\u001b[0mmshape_pad\u001b[0m\u001b[0;34m,\u001b[0m \u001b[0;34m(\u001b[0m\u001b[0mh5s\u001b[0m\u001b[0;34m.\u001b[0m\u001b[0mUNLIMITED\u001b[0m\u001b[0;34m,\u001b[0m\u001b[0;34m)\u001b[0m\u001b[0;34m*\u001b[0m\u001b[0mlen\u001b[0m\u001b[0;34m(\u001b[0m\u001b[0mmshape_pad\u001b[0m\u001b[0;34m)\u001b[0m\u001b[0;34m)\u001b[0m\u001b[0;34m\u001b[0m\u001b[0;34m\u001b[0m\u001b[0m\n\u001b[0;32m--> 707\u001b[0;31m         \u001b[0;32mfor\u001b[0m \u001b[0mfspace\u001b[0m \u001b[0;32min\u001b[0m \u001b[0mselection\u001b[0m\u001b[0;34m.\u001b[0m\u001b[0mbroadcast\u001b[0m\u001b[0;34m(\u001b[0m\u001b[0mmshape\u001b[0m\u001b[0;34m)\u001b[0m\u001b[0;34m:\u001b[0m\u001b[0;34m\u001b[0m\u001b[0;34m\u001b[0m\u001b[0m\n\u001b[0m\u001b[1;32m    708\u001b[0m             \u001b[0mself\u001b[0m\u001b[0;34m.\u001b[0m\u001b[0mid\u001b[0m\u001b[0;34m.\u001b[0m\u001b[0mwrite\u001b[0m\u001b[0;34m(\u001b[0m\u001b[0mmspace\u001b[0m\u001b[0;34m,\u001b[0m \u001b[0mfspace\u001b[0m\u001b[0;34m,\u001b[0m \u001b[0mval\u001b[0m\u001b[0;34m,\u001b[0m \u001b[0mmtype\u001b[0m\u001b[0;34m,\u001b[0m \u001b[0mdxpl\u001b[0m\u001b[0;34m=\u001b[0m\u001b[0mself\u001b[0m\u001b[0;34m.\u001b[0m\u001b[0m_dxpl\u001b[0m\u001b[0;34m)\u001b[0m\u001b[0;34m\u001b[0m\u001b[0;34m\u001b[0m\u001b[0m\n\u001b[1;32m    709\u001b[0m \u001b[0;34m\u001b[0m\u001b[0m\n",
      "\u001b[0;32m~/anaconda3/lib/python3.7/site-packages/h5py/_hl/selections.py\u001b[0m in \u001b[0;36mbroadcast\u001b[0;34m(self, target_shape)\u001b[0m\n\u001b[1;32m    297\u001b[0m                     \u001b[0mtshape\u001b[0m\u001b[0;34m.\u001b[0m\u001b[0mappend\u001b[0m\u001b[0;34m(\u001b[0m\u001b[0mt\u001b[0m\u001b[0;34m)\u001b[0m\u001b[0;34m\u001b[0m\u001b[0;34m\u001b[0m\u001b[0m\n\u001b[1;32m    298\u001b[0m                 \u001b[0;32melse\u001b[0m\u001b[0;34m:\u001b[0m\u001b[0;34m\u001b[0m\u001b[0;34m\u001b[0m\u001b[0m\n\u001b[0;32m--> 299\u001b[0;31m                     \u001b[0;32mraise\u001b[0m \u001b[0mTypeError\u001b[0m\u001b[0;34m(\u001b[0m\u001b[0;34m\"Can't broadcast %s -> %s\"\u001b[0m \u001b[0;34m%\u001b[0m \u001b[0;34m(\u001b[0m\u001b[0mtarget_shape\u001b[0m\u001b[0;34m,\u001b[0m \u001b[0mself\u001b[0m\u001b[0;34m.\u001b[0m\u001b[0mmshape\u001b[0m\u001b[0;34m)\u001b[0m\u001b[0;34m)\u001b[0m\u001b[0;34m\u001b[0m\u001b[0;34m\u001b[0m\u001b[0m\n\u001b[0m\u001b[1;32m    300\u001b[0m \u001b[0;34m\u001b[0m\u001b[0m\n\u001b[1;32m    301\u001b[0m         \u001b[0;32mif\u001b[0m \u001b[0many\u001b[0m\u001b[0;34m(\u001b[0m\u001b[0;34m[\u001b[0m\u001b[0mn\u001b[0m \u001b[0;34m>\u001b[0m \u001b[0;36m1\u001b[0m \u001b[0;32mfor\u001b[0m \u001b[0mn\u001b[0m \u001b[0;32min\u001b[0m \u001b[0mtarget\u001b[0m\u001b[0;34m]\u001b[0m\u001b[0;34m)\u001b[0m\u001b[0;34m:\u001b[0m\u001b[0;34m\u001b[0m\u001b[0;34m\u001b[0m\u001b[0m\n",
      "\u001b[0;31mTypeError\u001b[0m: Can't broadcast (3, 5) -> (3, 10)"
     ]
    }
   ],
   "source": [
    "subhalos_dir_url = \"http://www.illustris-project.org/api/Illustris-1/snapshots/135/subhalos/\" \n",
    "subhalos = get(subhalos_dir_url)\n",
    "\n",
    "\n",
    "\n",
    "\n",
    "\n",
    "\n",
    "file_path = \"./galaxy.h5\"\n",
    "if (os.path.isfile(file_path)):\n",
    "    os.remove(file_path)\n",
    "    fg = h5py.File(file_path)\n",
    "else:\n",
    "    fg = h5py.File(file_path)\n",
    "    \n",
    "chunk_size = 5\n",
    "dset = fg.create_dataset(name='Coordinates', shape=(3,chunk_size), maxshape=(3,None))\n",
    "subhalo_x_coordinate = []; subhalo_y_coordinate = []; subhalo_z_coordinate = []\n",
    "first_size = dset.shape[1]\n",
    "\n",
    "counter = 0\n",
    "for i in range(1,3*chunk_size+1):\n",
    "    counter += 1\n",
    "    subhalo_info = get(subhalos_dir_url + str(i-1))\n",
    "    subhalo_x_coordinate.append(subhalo_info['pos_x'])\n",
    "    subhalo_y_coordinate.append(subhalo_info['pos_y'])\n",
    "    subhalo_z_coordinate.append(subhalo_info['pos_z'])\n",
    "    if (counter ==  (chunk_size) ):\n",
    "        print(dset.shape[1])\n",
    "        print(dset.shape[1]+chunk_size)\n",
    "        print()\n",
    "        dset[:, chunk_size-i:] = np.random.random((3,5)) #np.array([subhalo_x_coordinate, subhalo_y_coordinate, subhalo_z_coordinate])\n",
    "        dset.resize(dset.shape[1]+chunk_size, axis=1) \n",
    "        subhalo_x_coordinate = []; subhalo_y_coordinate = []; subhalo_z_coordinate = []\n",
    "        counter = 0\n",
    "\n",
    "\n"
   ]
  },
  {
   "cell_type": "code",
   "execution_count": 55,
   "metadata": {},
   "outputs": [],
   "source": [
    "fg.close()"
   ]
  },
  {
   "cell_type": "code",
   "execution_count": 7,
   "metadata": {
    "scrolled": true
   },
   "outputs": [
    {
     "data": {
      "text/plain": [
       "[[931.088, 26254.3, 18358.9],\n",
       " [186.617, 24647.0, 16910.6],\n",
       " [763.91, 26755.7, 17237.8],\n",
       " [1205.82, 26492.8, 18220.5],\n",
       " [992.408, 26614.7, 17591.2],\n",
       " [865.807, 26523.9, 15511.3],\n",
       " [1522.58, 26560.8, 19467.1],\n",
       " [271.775, 26460.5, 15866.9],\n",
       " [74921.1, 24164.9, 16797.0],\n",
       " [835.328, 26671.5, 17974.5],\n",
       " [1122.91, 26606.1, 18434.3],\n",
       " [808.687, 26290.5, 18199.0],\n",
       " [1425.43, 26676.8, 17299.4],\n",
       " [1613.51, 26050.1, 19822.7],\n",
       " [827.264, 26417.8, 18223.0],\n",
       " [1256.45, 26785.9, 17628.8],\n",
       " [329.423, 26699.2, 19227.8],\n",
       " [1664.64, 25406.8, 18544.5],\n",
       " [724.136, 26407.4, 18167.5],\n",
       " [782.273, 26766.7, 17165.8],\n",
       " [517.726, 25952.2, 18123.5],\n",
       " [434.08, 24638.4, 16832.6],\n",
       " [74974.5, 24108.0, 16472.0],\n",
       " [778.362, 26279.6, 18415.0],\n",
       " [1512.99, 25558.5, 18344.1],\n",
       " [1165.61, 25946.1, 18561.8],\n",
       " [1753.28, 26010.0, 16639.9],\n",
       " [944.774, 25424.8, 19290.5],\n",
       " [429.94, 25236.7, 16529.9],\n",
       " [1538.23, 25444.9, 18639.4],\n",
       " [982.936, 26712.1, 18407.3],\n",
       " [790.076, 24684.9, 17198.9],\n",
       " [1886.63, 25804.9, 20043.5],\n",
       " [905.766, 25969.7, 17724.0],\n",
       " [74574.4, 24663.4, 16554.8],\n",
       " [957.066, 27586.5, 17927.2],\n",
       " [1671.95, 25331.6, 18670.7],\n",
       " [771.174, 26667.3, 17859.8],\n",
       " [645.756, 25936.1, 18143.1],\n",
       " [1030.83, 27339.0, 17536.7],\n",
       " [492.491, 27450.4, 18069.2],\n",
       " [1034.57, 26643.4, 18962.0],\n",
       " [74833.1, 23882.4, 17241.5],\n",
       " [429.374, 26625.9, 17855.5],\n",
       " [865.574, 26191.1, 19927.9],\n",
       " [83.3427, 25652.8, 17701.6],\n",
       " [468.263, 26181.3, 18642.6],\n",
       " [1367.48, 26300.8, 20002.3],\n",
       " [246.819, 25739.7, 17773.6],\n",
       " [551.657, 27162.6, 15861.2],\n",
       " [74602.8, 24117.9, 16854.4],\n",
       " [42.4642, 26647.0, 17876.6],\n",
       " [638.994, 27617.4, 18452.1],\n",
       " [1730.12, 26169.7, 16912.6],\n",
       " [962.734, 26287.1, 18383.7],\n",
       " [1535.46, 26220.4, 19625.3],\n",
       " [280.992, 26844.5, 17891.8],\n",
       " [669.095, 26390.4, 17888.1],\n",
       " [98.1139, 26580.5, 15356.5],\n",
       " [60.4928, 24153.2, 16791.9],\n",
       " [957.532, 27446.8, 17332.6],\n",
       " [239.69, 27220.7, 17227.2],\n",
       " [1586.51, 25342.2, 18155.4],\n",
       " [742.471, 26874.8, 17505.9],\n",
       " [812.974, 25622.3, 18369.8],\n",
       " [632.962, 26496.6, 19767.9],\n",
       " [264.495, 24893.7, 16793.6],\n",
       " [507.544, 24524.8, 17057.8],\n",
       " [1446.73, 27427.5, 17965.3],\n",
       " [493.78, 27003.0, 16678.0],\n",
       " [1630.64, 26721.4, 19459.1],\n",
       " [110.575, 26063.8, 16345.5],\n",
       " [867.365, 24307.5, 16879.8],\n",
       " [74699.0, 24388.5, 16809.5],\n",
       " [605.261, 26238.7, 18436.1],\n",
       " [1069.38, 26254.8, 18840.5],\n",
       " [842.274, 26974.5, 16645.9],\n",
       " [982.617, 25494.3, 19212.2],\n",
       " [189.07, 24663.0, 16913.6],\n",
       " [364.909, 27149.4, 18144.4],\n",
       " [721.094, 26301.4, 18220.5],\n",
       " [461.346, 26336.3, 18003.5],\n",
       " [83.1161, 24221.2, 16432.6],\n",
       " [1218.79, 27427.3, 17434.0],\n",
       " [245.587, 25068.1, 17018.6],\n",
       " [106.353, 25957.9, 17032.5],\n",
       " [942.928, 26484.2, 18013.2],\n",
       " [74900.0, 26042.0, 16503.6],\n",
       " [932.76, 26327.0, 18290.9],\n",
       " [1181.92, 26605.2, 18661.3],\n",
       " [540.515, 26635.7, 17063.9],\n",
       " [444.362, 24667.8, 16759.0],\n",
       " [517.248, 26460.1, 16848.6],\n",
       " [1207.72, 25908.0, 17169.9],\n",
       " [971.241, 26644.3, 18304.8],\n",
       " [264.473, 26456.8, 16013.8],\n",
       " [670.8, 24229.0, 16774.8],\n",
       " [175.188, 25410.8, 16948.3],\n",
       " [920.829, 26110.4, 18359.6],\n",
       " [918.212, 25429.2, 18015.6],\n",
       " [596.154, 24878.8, 16319.7],\n",
       " [904.236, 26280.0, 16412.4],\n",
       " [515.045, 26683.6, 17590.2],\n",
       " [813.611, 26768.1, 17245.5],\n",
       " [221.642, 25944.1, 17562.7],\n",
       " [421.927, 27196.8, 17595.8],\n",
       " [1331.96, 26756.8, 17500.9],\n",
       " [9.2168, 24253.1, 16574.6],\n",
       " [838.836, 25550.5, 17094.6],\n",
       " [923.307, 26602.7, 18847.1],\n",
       " [656.967, 26343.2, 17002.3],\n",
       " [74582.9, 23963.5, 16998.8],\n",
       " [990.188, 26131.2, 18756.0],\n",
       " [485.152, 24749.3, 17391.9],\n",
       " [663.396, 26975.3, 18196.9],\n",
       " [1159.44, 26556.9, 19573.9],\n",
       " [1281.35, 27873.9, 17737.7],\n",
       " [1774.25, 25645.6, 18832.7],\n",
       " [842.725, 26167.6, 17452.5],\n",
       " [838.247, 26080.5, 18292.1],\n",
       " [22.3493, 24457.0, 16510.8],\n",
       " [2088.4, 26526.3, 19392.1],\n",
       " [735.003, 26724.1, 17657.0],\n",
       " [1167.05, 27130.8, 17035.8],\n",
       " [74437.5, 24030.2, 16661.9],\n",
       " [628.533, 26665.6, 19916.5],\n",
       " [349.826, 24789.6, 17032.2],\n",
       " [1112.9, 26552.5, 16619.0],\n",
       " [1090.75, 25969.4, 19595.8],\n",
       " [1060.43, 26725.7, 17907.1],\n",
       " [652.163, 26618.2, 19672.6],\n",
       " [1990.53, 26035.5, 19595.1],\n",
       " [953.951, 26161.1, 18533.1],\n",
       " [1375.6, 26869.2, 17657.1],\n",
       " [1307.58, 26803.5, 17689.0],\n",
       " [1662.88, 26213.1, 18534.2],\n",
       " [74707.1, 24493.1, 16966.1],\n",
       " [227.539, 25689.1, 18249.9],\n",
       " [1388.73, 26732.8, 18441.8],\n",
       " [508.368, 26344.7, 17167.8],\n",
       " [631.664, 27471.5, 18027.9],\n",
       " [1676.69, 26769.4, 19882.3],\n",
       " [1103.09, 24858.4, 17187.9],\n",
       " [303.934, 26106.1, 18696.8],\n",
       " [994.307, 25889.5, 16334.6],\n",
       " [1110.9, 26211.4, 18649.6],\n",
       " [954.264, 26581.9, 18295.8],\n",
       " [454.406, 25009.3, 16940.6],\n",
       " [992.216, 26246.5, 18288.5],\n",
       " [1559.07, 26832.4, 18377.9],\n",
       " [649.878, 27261.2, 17226.8],\n",
       " [675.348, 27383.0, 16639.7],\n",
       " [291.735, 25765.7, 18670.1],\n",
       " [1176.45, 27220.6, 17212.7],\n",
       " [1066.88, 26102.5, 18564.5],\n",
       " [601.79, 26166.2, 17636.0],\n",
       " [1540.24, 27370.7, 17801.6],\n",
       " [311.356, 26391.6, 15807.6],\n",
       " [552.067, 26524.6, 16753.0],\n",
       " [1806.35, 26523.7, 18706.6],\n",
       " [790.654, 24402.4, 17460.6]]"
      ]
     },
     "execution_count": 7,
     "metadata": {},
     "output_type": "execute_result"
    }
   ],
   "source": [
    "subhalo_coordinate"
   ]
  },
  {
   "cell_type": "code",
   "execution_count": 13,
   "metadata": {},
   "outputs": [],
   "source": [
    "subhalo_coordinate = np.array(subhalo_coordinate, dtype=np.float32)"
   ]
  },
  {
   "cell_type": "code",
   "execution_count": 19,
   "metadata": {},
   "outputs": [
    {
     "data": {
      "text/plain": [
       "<HDF5 dataset \"subhalo\": shape (161, 3), type \"<f4\">"
      ]
     },
     "execution_count": 19,
     "metadata": {},
     "output_type": "execute_result"
    }
   ],
   "source": [
    "galaxy = h5py.File(\"./Galaxy/gals.h5\",\"w\")\n",
    "galaxy.create_dataset(\"subhalo\", data = subhalo_coordinate)\n",
    "\n"
   ]
  },
  {
   "cell_type": "code",
   "execution_count": 56,
   "metadata": {},
   "outputs": [],
   "source": [
    "galaxy.close()"
   ]
  },
  {
   "cell_type": "code",
   "execution_count": 57,
   "metadata": {},
   "outputs": [],
   "source": [
    "subhalo_coordinate_1 = subhalo_coordinate[0:3]\n",
    "subhalo_coordinate_2 = subhalo_coordinate[3:10]"
   ]
  },
  {
   "cell_type": "code",
   "execution_count": 58,
   "metadata": {},
   "outputs": [],
   "source": [
    "x1.close()"
   ]
  },
  {
   "cell_type": "code",
   "execution_count": 59,
   "metadata": {},
   "outputs": [],
   "source": [
    "x1 = h5py.File(\"./Galaxy/gals_extend.h5\",\"w\") \n",
    "d1 = x1.create_dataset(\"p1\", data = subhalo_coordinate_1, maxshape = (3,None))"
   ]
  },
  {
   "cell_type": "code",
   "execution_count": 60,
   "metadata": {},
   "outputs": [
    {
     "data": {
      "text/plain": [
       "7"
      ]
     },
     "execution_count": 60,
     "metadata": {},
     "output_type": "execute_result"
    }
   ],
   "source": [
    "subhalo_coordinate_2.shape[0]"
   ]
  },
  {
   "cell_type": "code",
   "execution_count": 61,
   "metadata": {},
   "outputs": [
    {
     "ename": "TypeError",
     "evalue": "Can't broadcast (3, 3) -> (3, 10)",
     "output_type": "error",
     "traceback": [
      "\u001b[0;31m---------------------------------------------------------------------------\u001b[0m",
      "\u001b[0;31mTypeError\u001b[0m                                 Traceback (most recent call last)",
      "\u001b[0;32m<ipython-input-61-6fcaeb7d8bf7>\u001b[0m in \u001b[0;36m<module>\u001b[0;34m\u001b[0m\n\u001b[1;32m      1\u001b[0m \u001b[0md1\u001b[0m\u001b[0;34m.\u001b[0m\u001b[0mresize\u001b[0m\u001b[0;34m(\u001b[0m\u001b[0;34m(\u001b[0m\u001b[0;36m3\u001b[0m\u001b[0;34m,\u001b[0m\u001b[0;36m10\u001b[0m\u001b[0;34m)\u001b[0m\u001b[0;34m)\u001b[0m\u001b[0;34m\u001b[0m\u001b[0;34m\u001b[0m\u001b[0m\n\u001b[0;32m----> 2\u001b[0;31m \u001b[0md1\u001b[0m\u001b[0;34m[\u001b[0m\u001b[0;34m:\u001b[0m\u001b[0;34m,\u001b[0m\u001b[0;34m:\u001b[0m\u001b[0;34m]\u001b[0m \u001b[0;34m=\u001b[0m \u001b[0msubhalo_coordinate_1\u001b[0m\u001b[0;34m\u001b[0m\u001b[0;34m\u001b[0m\u001b[0m\n\u001b[0m",
      "\u001b[0;32mh5py/_objects.pyx\u001b[0m in \u001b[0;36mh5py._objects.with_phil.wrapper\u001b[0;34m()\u001b[0m\n",
      "\u001b[0;32mh5py/_objects.pyx\u001b[0m in \u001b[0;36mh5py._objects.with_phil.wrapper\u001b[0;34m()\u001b[0m\n",
      "\u001b[0;32m~/anaconda3/lib/python3.7/site-packages/h5py/_hl/dataset.py\u001b[0m in \u001b[0;36m__setitem__\u001b[0;34m(self, args, val)\u001b[0m\n\u001b[1;32m    705\u001b[0m             \u001b[0mmshape_pad\u001b[0m \u001b[0;34m=\u001b[0m \u001b[0mmshape\u001b[0m\u001b[0;34m\u001b[0m\u001b[0;34m\u001b[0m\u001b[0m\n\u001b[1;32m    706\u001b[0m         \u001b[0mmspace\u001b[0m \u001b[0;34m=\u001b[0m \u001b[0mh5s\u001b[0m\u001b[0;34m.\u001b[0m\u001b[0mcreate_simple\u001b[0m\u001b[0;34m(\u001b[0m\u001b[0mmshape_pad\u001b[0m\u001b[0;34m,\u001b[0m \u001b[0;34m(\u001b[0m\u001b[0mh5s\u001b[0m\u001b[0;34m.\u001b[0m\u001b[0mUNLIMITED\u001b[0m\u001b[0;34m,\u001b[0m\u001b[0;34m)\u001b[0m\u001b[0;34m*\u001b[0m\u001b[0mlen\u001b[0m\u001b[0;34m(\u001b[0m\u001b[0mmshape_pad\u001b[0m\u001b[0;34m)\u001b[0m\u001b[0;34m)\u001b[0m\u001b[0;34m\u001b[0m\u001b[0;34m\u001b[0m\u001b[0m\n\u001b[0;32m--> 707\u001b[0;31m         \u001b[0;32mfor\u001b[0m \u001b[0mfspace\u001b[0m \u001b[0;32min\u001b[0m \u001b[0mselection\u001b[0m\u001b[0;34m.\u001b[0m\u001b[0mbroadcast\u001b[0m\u001b[0;34m(\u001b[0m\u001b[0mmshape\u001b[0m\u001b[0;34m)\u001b[0m\u001b[0;34m:\u001b[0m\u001b[0;34m\u001b[0m\u001b[0;34m\u001b[0m\u001b[0m\n\u001b[0m\u001b[1;32m    708\u001b[0m             \u001b[0mself\u001b[0m\u001b[0;34m.\u001b[0m\u001b[0mid\u001b[0m\u001b[0;34m.\u001b[0m\u001b[0mwrite\u001b[0m\u001b[0;34m(\u001b[0m\u001b[0mmspace\u001b[0m\u001b[0;34m,\u001b[0m \u001b[0mfspace\u001b[0m\u001b[0;34m,\u001b[0m \u001b[0mval\u001b[0m\u001b[0;34m,\u001b[0m \u001b[0mmtype\u001b[0m\u001b[0;34m,\u001b[0m \u001b[0mdxpl\u001b[0m\u001b[0;34m=\u001b[0m\u001b[0mself\u001b[0m\u001b[0;34m.\u001b[0m\u001b[0m_dxpl\u001b[0m\u001b[0;34m)\u001b[0m\u001b[0;34m\u001b[0m\u001b[0;34m\u001b[0m\u001b[0m\n\u001b[1;32m    709\u001b[0m \u001b[0;34m\u001b[0m\u001b[0m\n",
      "\u001b[0;32m~/anaconda3/lib/python3.7/site-packages/h5py/_hl/selections.py\u001b[0m in \u001b[0;36mbroadcast\u001b[0;34m(self, target_shape)\u001b[0m\n\u001b[1;32m    297\u001b[0m                     \u001b[0mtshape\u001b[0m\u001b[0;34m.\u001b[0m\u001b[0mappend\u001b[0m\u001b[0;34m(\u001b[0m\u001b[0mt\u001b[0m\u001b[0;34m)\u001b[0m\u001b[0;34m\u001b[0m\u001b[0;34m\u001b[0m\u001b[0m\n\u001b[1;32m    298\u001b[0m                 \u001b[0;32melse\u001b[0m\u001b[0;34m:\u001b[0m\u001b[0;34m\u001b[0m\u001b[0;34m\u001b[0m\u001b[0m\n\u001b[0;32m--> 299\u001b[0;31m                     \u001b[0;32mraise\u001b[0m \u001b[0mTypeError\u001b[0m\u001b[0;34m(\u001b[0m\u001b[0;34m\"Can't broadcast %s -> %s\"\u001b[0m \u001b[0;34m%\u001b[0m \u001b[0;34m(\u001b[0m\u001b[0mtarget_shape\u001b[0m\u001b[0;34m,\u001b[0m \u001b[0mself\u001b[0m\u001b[0;34m.\u001b[0m\u001b[0mmshape\u001b[0m\u001b[0;34m)\u001b[0m\u001b[0;34m)\u001b[0m\u001b[0;34m\u001b[0m\u001b[0;34m\u001b[0m\u001b[0m\n\u001b[0m\u001b[1;32m    300\u001b[0m \u001b[0;34m\u001b[0m\u001b[0m\n\u001b[1;32m    301\u001b[0m         \u001b[0;32mif\u001b[0m \u001b[0many\u001b[0m\u001b[0;34m(\u001b[0m\u001b[0;34m[\u001b[0m\u001b[0mn\u001b[0m \u001b[0;34m>\u001b[0m \u001b[0;36m1\u001b[0m \u001b[0;32mfor\u001b[0m \u001b[0mn\u001b[0m \u001b[0;32min\u001b[0m \u001b[0mtarget\u001b[0m\u001b[0;34m]\u001b[0m\u001b[0;34m)\u001b[0m\u001b[0;34m:\u001b[0m\u001b[0;34m\u001b[0m\u001b[0;34m\u001b[0m\u001b[0m\n",
      "\u001b[0;31mTypeError\u001b[0m: Can't broadcast (3, 3) -> (3, 10)"
     ]
    }
   ],
   "source": [
    "d1.resize((3,10))\n",
    "d1[:,:] = subhalo_coordinate_1"
   ]
  },
  {
   "cell_type": "code",
   "execution_count": null,
   "metadata": {},
   "outputs": [],
   "source": [
    "dset = f.create_dataset('mydataset', (2,2), maxshape=(None,3))"
   ]
  },
  {
   "cell_type": "code",
   "execution_count": null,
   "metadata": {},
   "outputs": [],
   "source": [
    "https://stackoverflow.com/questions/47072859/how-to-append-data-to-one-specific-dataset-in-a-hdf5-file-with-h5py"
   ]
  }
 ],
 "metadata": {
  "kernelspec": {
   "display_name": "Python 3",
   "language": "python",
   "name": "python3"
  },
  "language_info": {
   "codemirror_mode": {
    "name": "ipython",
    "version": 3
   },
   "file_extension": ".py",
   "mimetype": "text/x-python",
   "name": "python",
   "nbconvert_exporter": "python",
   "pygments_lexer": "ipython3",
   "version": "3.7.3"
  }
 },
 "nbformat": 4,
 "nbformat_minor": 2
}
