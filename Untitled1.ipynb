{
 "cells": [
  {
   "cell_type": "code",
   "execution_count": 3,
   "metadata": {},
   "outputs": [],
   "source": [
    "import h5py\n",
    "import requests\n",
    "import numpy as np\n",
    "import matplotlib.pyplot as plt"
   ]
  },
  {
   "cell_type": "code",
   "execution_count": 4,
   "metadata": {},
   "outputs": [],
   "source": [
    "baseUrl = 'http://www.illustris-project.org/api/'\n",
    "headers = {\"api-key\":\"79d3daabdc8c4290395780680a4e1107\"}"
   ]
  },
  {
   "cell_type": "code",
   "execution_count": 5,
   "metadata": {},
   "outputs": [],
   "source": [
    "def get(path, params=None):\n",
    "    r = requests.get(path, params=params, headers=headers)\n",
    "    r.raise_for_status()\n",
    "    if (r.headers['content-type'] == 'application/json'):\n",
    "        return r.json()\n",
    "    \n",
    "    if ('content-disposition' in r.headers):\n",
    "        filename = r.headers['content-disposition'].split(\"filename=\")[1]\n",
    "        with open(filename, 'wb') as f:\n",
    "            f.write(r.content)\n",
    "        return filename\n",
    "    return r"
   ]
  },
  {
   "cell_type": "code",
   "execution_count": 6,
   "metadata": {},
   "outputs": [
    {
     "data": {
      "text/plain": [
       "(11013.3, 51469.6, 47748.1)"
      ]
     },
     "execution_count": 6,
     "metadata": {},
     "output_type": "execute_result"
    }
   ],
   "source": [
    "sub_prog_url = \"http://www.illustris-project.org/api/Illustris-3/snapshots/85/subhalos/185/\"\n",
    "sub_prog = get(sub_prog_url)\n",
    "sub_prog['pos_x'], sub_prog['pos_y'], sub_prog['pos_z']"
   ]
  },
  {
   "cell_type": "code",
   "execution_count": 7,
   "metadata": {},
   "outputs": [],
   "source": [
    "cutout_request = {'gas':'Coordinates,Masses,NeutralHydrogenAbundance'}\n",
    "cutout = get(sub_prog_url+\"cutout.hdf5\", cutout_request)"
   ]
  },
  {
   "cell_type": "code",
   "execution_count": 8,
   "metadata": {},
   "outputs": [],
   "source": [
    "with h5py.File(cutout,'r') as f:\n",
    "    x = f['PartType0']['Coordinates'][:,0] - sub_prog['pos_x']\n",
    "    y = f['PartType0']['Coordinates'][:,1] - sub_prog['pos_y']\n",
    "    z = f['PartType0']['Coordinates'][:,2] - sub_prog['pos_z']\n",
    "    \n",
    "    dens = np.log10(f['PartType0']['Masses'][:])\n",
    "    N_H = np.log10(f['PartType0']['NeutralHydrogenAbundance'][:])\n",
    "    "
   ]
  },
  {
   "cell_type": "code",
   "execution_count": 31,
   "metadata": {},
   "outputs": [
    {
     "data": {
      "text/plain": [
       "array([-5.0195312e-01, -5.0390625e-01, -1.0927734e+00, ...,\n",
       "       -1.6906289e+03, -1.6441797e+03, -1.1701182e+03], dtype=float32)"
      ]
     },
     "execution_count": 31,
     "metadata": {},
     "output_type": "execute_result"
    }
   ],
   "source": [
    "x"
   ]
  },
  {
   "cell_type": "code",
   "execution_count": 9,
   "metadata": {
    "scrolled": true
   },
   "outputs": [
    {
     "data": {
      "text/plain": [
       "(array([[0., 0., 0., ..., 0., 0., 0.],\n",
       "        [0., 0., 0., ..., 0., 0., 0.],\n",
       "        [0., 0., 0., ..., 0., 0., 0.],\n",
       "        ...,\n",
       "        [0., 0., 0., ..., 0., 0., 0.],\n",
       "        [0., 0., 0., ..., 0., 0., 0.],\n",
       "        [0., 0., 0., ..., 0., 0., 0.]]),\n",
       " array([-2215.957   , -2192.2693  , -2168.5818  , -2144.894   ,\n",
       "        -2121.2063  , -2097.5186  , -2073.831   , -2050.1433  ,\n",
       "        -2026.4556  , -2002.768   , -1979.0802  , -1955.3926  ,\n",
       "        -1931.7048  , -1908.0172  , -1884.3295  , -1860.6418  ,\n",
       "        -1836.9541  , -1813.2665  , -1789.5787  , -1765.8911  ,\n",
       "        -1742.2034  , -1718.5157  , -1694.828   , -1671.1404  ,\n",
       "        -1647.4526  , -1623.765   , -1600.0773  , -1576.3896  ,\n",
       "        -1552.7019  , -1529.0143  , -1505.3265  , -1481.6389  ,\n",
       "        -1457.9512  , -1434.2635  , -1410.5758  , -1386.8882  ,\n",
       "        -1363.2004  , -1339.5128  , -1315.8251  , -1292.1375  ,\n",
       "        -1268.4497  , -1244.7621  , -1221.0743  , -1197.3867  ,\n",
       "        -1173.699   , -1150.0114  , -1126.3236  , -1102.636   ,\n",
       "        -1078.9482  , -1055.2606  , -1031.5729  , -1007.88525 ,\n",
       "         -984.1976  ,  -960.5099  ,  -936.8222  ,  -913.1345  ,\n",
       "         -889.44684 ,  -865.75916 ,  -842.0715  ,  -818.3838  ,\n",
       "         -794.6961  ,  -771.0084  ,  -747.32074 ,  -723.63306 ,\n",
       "         -699.9454  ,  -676.2577  ,  -652.57    ,  -628.8823  ,\n",
       "         -605.19464 ,  -581.50696 ,  -557.8193  ,  -534.1316  ,\n",
       "         -510.4439  ,  -486.75623 ,  -463.06854 ,  -439.38086 ,\n",
       "         -415.69318 ,  -392.0055  ,  -368.3178  ,  -344.63013 ,\n",
       "         -320.94244 ,  -297.25476 ,  -273.56708 ,  -249.8794  ,\n",
       "         -226.19171 ,  -202.50404 ,  -178.81636 ,  -155.12868 ,\n",
       "         -131.441   ,  -107.7533  ,   -84.06563 ,   -60.37794 ,\n",
       "          -36.69026 ,   -13.002578,    10.685104,    34.372787,\n",
       "           58.06047 ,    81.74815 ,   105.43584 ,   129.12352 ,\n",
       "          152.8112  ,   176.49889 ,   200.18657 ,   223.87425 ,\n",
       "          247.56192 ,   271.2496  ,   294.9373  ,   318.62497 ,\n",
       "          342.31265 ,   366.00034 ,   389.68802 ,   413.3757  ,\n",
       "          437.0634  ,   460.75107 ,   484.43875 ,   508.12643 ,\n",
       "          531.8141  ,   555.5018  ,   579.18945 ,   602.87714 ,\n",
       "          626.5648  ,   650.2525  ,   673.9402  ,   697.62787 ,\n",
       "          721.31555 ,   745.00323 ,   768.6909  ,   792.3786  ,\n",
       "          816.0663  ,   839.75397 ,   863.44165 ,   887.12933 ,\n",
       "          910.817   ,   934.5047  ,   958.1924  ,   981.88007 ,\n",
       "         1005.56775 ,  1029.2555  ,  1052.9431  ,  1076.6309  ,\n",
       "         1100.3185  ,  1124.0062  ,  1147.6938  ,  1171.3816  ,\n",
       "         1195.0692  ,  1218.757   ,  1242.4446  ,  1266.1323  ,\n",
       "         1289.82    ,  1313.5077  ,  1337.1953  ], dtype=float32),\n",
       " array([-1.28696094e+03, -1.27066528e+03, -1.25436951e+03, -1.23807385e+03,\n",
       "        -1.22177808e+03, -1.20548242e+03, -1.18918677e+03, -1.17289099e+03,\n",
       "        -1.15659534e+03, -1.14029956e+03, -1.12400391e+03, -1.10770825e+03,\n",
       "        -1.09141248e+03, -1.07511682e+03, -1.05882104e+03, -1.04252539e+03,\n",
       "        -1.02622974e+03, -1.00993396e+03, -9.93638306e+02, -9.77342590e+02,\n",
       "        -9.61046875e+02, -9.44751160e+02, -9.28455444e+02, -9.12159790e+02,\n",
       "        -8.95864075e+02, -8.79568359e+02, -8.63272644e+02, -8.46976929e+02,\n",
       "        -8.30681274e+02, -8.14385559e+02, -7.98089844e+02, -7.81794128e+02,\n",
       "        -7.65498413e+02, -7.49202759e+02, -7.32907043e+02, -7.16611328e+02,\n",
       "        -7.00315613e+02, -6.84019897e+02, -6.67724243e+02, -6.51428528e+02,\n",
       "        -6.35132812e+02, -6.18837097e+02, -6.02541382e+02, -5.86245728e+02,\n",
       "        -5.69950012e+02, -5.53654297e+02, -5.37358582e+02, -5.21062866e+02,\n",
       "        -5.04767181e+02, -4.88471497e+02, -4.72175781e+02, -4.55880066e+02,\n",
       "        -4.39584381e+02, -4.23288666e+02, -4.06992981e+02, -3.90697266e+02,\n",
       "        -3.74401550e+02, -3.58105865e+02, -3.41810150e+02, -3.25514465e+02,\n",
       "        -3.09218750e+02, -2.92923035e+02, -2.76627350e+02, -2.60331635e+02,\n",
       "        -2.44035934e+02, -2.27740234e+02, -2.11444534e+02, -1.95148834e+02,\n",
       "        -1.78853119e+02, -1.62557419e+02, -1.46261719e+02, -1.29966019e+02,\n",
       "        -1.13670311e+02, -9.73746109e+01, -8.10789032e+01, -6.47832031e+01,\n",
       "        -4.84874992e+01, -3.21917953e+01, -1.58960934e+01,  3.99609387e-01,\n",
       "         1.66953125e+01,  3.29910164e+01,  4.92867203e+01,  6.55824203e+01,\n",
       "         8.18781281e+01,  9.81738281e+01,  1.14469528e+02,  1.30765228e+02,\n",
       "         1.47060944e+02,  1.63356644e+02,  1.79652344e+02,  1.95948044e+02,\n",
       "         2.12243744e+02,  2.28539459e+02,  2.44835159e+02,  2.61130859e+02,\n",
       "         2.77426575e+02,  2.93722260e+02,  3.10017975e+02,  3.26313660e+02,\n",
       "         3.42609375e+02,  3.58905090e+02,  3.75200775e+02,  3.91496490e+02,\n",
       "         4.07792175e+02,  4.24087891e+02,  4.40383606e+02,  4.56679291e+02,\n",
       "         4.72975006e+02,  4.89270691e+02,  5.05566406e+02,  5.21862122e+02,\n",
       "         5.38157837e+02,  5.54453491e+02,  5.70749207e+02,  5.87044922e+02,\n",
       "         6.03340637e+02,  6.19636353e+02,  6.35932007e+02,  6.52227722e+02,\n",
       "         6.68523438e+02,  6.84819153e+02,  7.01114868e+02,  7.17410522e+02,\n",
       "         7.33706238e+02,  7.50001953e+02,  7.66297668e+02,  7.82593384e+02,\n",
       "         7.98889038e+02,  8.15184753e+02,  8.31480469e+02,  8.47776184e+02,\n",
       "         8.64071899e+02,  8.80367554e+02,  8.96663269e+02,  9.12958984e+02,\n",
       "         9.29254700e+02,  9.45550415e+02,  9.61846069e+02,  9.78141785e+02,\n",
       "         9.94437500e+02,  1.01073322e+03,  1.02702893e+03,  1.04332458e+03,\n",
       "         1.05962036e+03,  1.07591602e+03,  1.09221167e+03,  1.10850745e+03,\n",
       "         1.12480310e+03,  1.14109888e+03,  1.15739453e+03], dtype=float32),\n",
       " <matplotlib.image.AxesImage at 0x7f1f4320fa10>)"
      ]
     },
     "execution_count": 9,
     "metadata": {},
     "output_type": "execute_result"
    },
    {
     "data": {
      "image/png": "[encoded data removed]",
      "text/plain": [
       "<matplotlib.figure.Figure at 0x7f1f4320f710>"
      ]
     },
     "metadata": {},
     "output_type": "display_data"
    }
   ],
   "source": [
    "plt.hist2d(x,y,weights=dens,bins=[150,150])\n"
   ]
  },
  {
   "cell_type": "code",
   "execution_count": 12,
   "metadata": {},
   "outputs": [],
   "source": [
    "plt.show()"
   ]
  },
  {
   "cell_type": "code",
   "execution_count": null,
   "metadata": {},
   "outputs": [],
   "source": [
    "my_cmap = plt.get_cmap('jet')\n",
    "bins = [300,200]\n",
    "\n",
    "plt.figure(figsize = (8,24))\n",
    "plt.subplot(3,1,1)\n",
    "plt.hist2d(x, y, weights=N_H, bins=bins, cmap = my_cmap)\n",
    "plt.xlabel('$\\Delta x$ [ckpc/h]')\n",
    "plt.ylabel('$\\Delta y$ [ckpc/h]')\n",
    "plt.title('Neutral Hydrogen Abundance x y')\n",
    "#plt.colorbar()\n",
    "\n",
    "plt.subplot(3,1,2)\n",
    "plt.hist2d(x, z, weights=N_H, bins=bins, cmap = my_cmap)\n",
    "plt.xlabel('$\\Delta x$ [ckpc/h]')\n",
    "plt.ylabel('$\\Delta z$ [ckpc/h]')\n",
    "plt.title('Neutral Hydrogen Abundance x z')\n",
    "#plt.colorbar()\n",
    "\n",
    "plt.subplot(3,1,3)\n",
    "plt.hist2d(x, z, weights= dens, bins=bins, cmap = my_cmap)\n",
    "plt.xlabel('$\\Delta z$ [ckpc/h]')\n",
    "plt.ylabel('$\\Delta y$ [ckpc/h]')\n",
    "plt.title('Neutral Hydrogen Abundance z y')\n",
    "#plt.colorbar()\n",
    "\n",
    "\n",
    "\n",
    "plt.tight_layout()\n",
    "plt.savefig('first_try.pdf', dpi = 300)\n",
    "plt.show()"
   ]
  },
  {
   "cell_type": "code",
   "execution_count": null,
   "metadata": {},
   "outputs": [],
   "source": [
    "len(dens)"
   ]
  },
  {
   "cell_type": "code",
   "execution_count": null,
   "metadata": {},
   "outputs": [],
   "source": [
    "len(x)"
   ]
  },
  {
   "cell_type": "code",
   "execution_count": null,
   "metadata": {},
   "outputs": [],
   "source": [
    "len(y)"
   ]
  },
  {
   "cell_type": "code",
   "execution_count": null,
   "metadata": {},
   "outputs": [],
   "source": [
    "z"
   ]
  },
  {
   "cell_type": "code",
   "execution_count": null,
   "metadata": {},
   "outputs": [],
   "source": [
    "x "
   ]
  },
  {
   "cell_type": "code",
   "execution_count": 37,
   "metadata": {},
   "outputs": [],
   "source": [
    "\n",
    "x = np.arange(100)\n",
    "y = np.arange(100)\n",
    "\n",
    "weights = np.random.rand(100)\n"
   ]
  },
  {
   "cell_type": "code",
   "execution_count": 38,
   "metadata": {},
   "outputs": [
    {
     "data": {
      "text/plain": [
       "(array([[13.09693616,  0.        ,  0.        ],\n",
       "        [ 0.        , 15.19213242,  0.        ],\n",
       "        [ 0.        ,  0.        , 16.88538485]]),\n",
       " array([ 0., 33., 66., 99.]),\n",
       " array([ 0., 33., 66., 99.]),\n",
       " <matplotlib.image.AxesImage at 0x7fdc5b7bbeb8>)"
      ]
     },
     "execution_count": 38,
     "metadata": {},
     "output_type": "execute_result"
    },
    {
     "data": {
      "image/png": "[encoded data removed]",
      "text/plain": [
       "<matplotlib.figure.Figure at 0x7fdc5b922fd0>"
      ]
     },
     "metadata": {},
     "output_type": "display_data"
    }
   ],
   "source": [
    "plt.hist2d(x, y, weights=weights,bins = [3,3])\n"
   ]
  },
  {
   "cell_type": "code",
   "execution_count": null,
   "metadata": {},
   "outputs": [],
   "source": []
  }
 ],
 "metadata": {
  "kernelspec": {
   "display_name": "Python 2",
   "language": "python",
   "name": "python2"
  },
  "language_info": {
   "codemirror_mode": {
    "name": "ipython",
    "version": 2
   },
   "file_extension": ".py",
   "mimetype": "text/x-python",
   "name": "python",
   "nbconvert_exporter": "python",
   "pygments_lexer": "ipython2",
   "version": "2.7.14"
  }
 },
 "nbformat": 4,
 "nbformat_minor": 2
}
