{
 "cells": [
  {
   "cell_type": "code",
   "execution_count": 158,
   "metadata": {},
   "outputs": [],
   "source": [
    "import os\n",
    "import numpy as np\n",
    "import h5py"
   ]
  },
  {
   "cell_type": "code",
   "execution_count": 159,
   "metadata": {},
   "outputs": [],
   "source": [
    "chuncky = 5\n",
    "\n",
    "fileh5 = \"bender.h5\"\n",
    "if (os.path.isfile(fileh5)):\n",
    "    os.remove(fileh5)\n",
    "else:\n",
    "    Rodriguez = h5py.File(fileh5,\"a\")"
   ]
  },
  {
   "cell_type": "code",
   "execution_count": 160,
   "metadata": {},
   "outputs": [],
   "source": [
    "dset = Rodriguez.create_dataset(name='bender', shape=(3,chuncky), maxshape=(3,None))"
   ]
  },
  {
   "cell_type": "code",
   "execution_count": 161,
   "metadata": {},
   "outputs": [],
   "source": [
    "a = np.array(np.ones(3*chuncky).reshape(3,chuncky))\n",
    "b = np.array(2*np.ones(3*chuncky).reshape(3,chuncky))\n",
    "c = np.array(3*np.ones(3*chuncky).reshape(3,chuncky))"
   ]
  },
  {
   "cell_type": "code",
   "execution_count": 162,
   "metadata": {},
   "outputs": [],
   "source": [
    "abc = np.array([a,b,c])"
   ]
  },
  {
   "cell_type": "code",
   "execution_count": 163,
   "metadata": {},
   "outputs": [
    {
     "data": {
      "text/plain": [
       "array([[1., 1., 1., 1., 1.],\n",
       "       [1., 1., 1., 1., 1.],\n",
       "       [1., 1., 1., 1., 1.]])"
      ]
     },
     "execution_count": 163,
     "metadata": {},
     "output_type": "execute_result"
    }
   ],
   "source": [
    "abc[0]"
   ]
  },
  {
   "cell_type": "code",
   "execution_count": 164,
   "metadata": {},
   "outputs": [
    {
     "name": "stdout",
     "output_type": "stream",
     "text": [
      "(3, 10)\n",
      "(3, 15)\n"
     ]
    }
   ],
   "source": [
    "counter = 0\n",
    "dset[:,0:] = abc[0]\n",
    "for i in range(1, 3):\n",
    "    counter += 1\n",
    "    dset.resize(dset.shape[1]+ chuncky , axis=1)   \n",
    "    dset[:,-chuncky:] = abc[i]\n",
    "    print(dset.shape)"
   ]
  },
  {
   "cell_type": "code",
   "execution_count": 165,
   "metadata": {},
   "outputs": [],
   "source": [
    "Rodriguez.close()"
   ]
  },
  {
   "cell_type": "code",
   "execution_count": 166,
   "metadata": {},
   "outputs": [
    {
     "name": "stdout",
     "output_type": "stream",
     "text": [
      "(3, 15)\n"
     ]
    }
   ],
   "source": [
    "with h5py.File(fileh5,\"r\") as ply:\n",
    "    a = ply.get('bender')\n",
    "    print(a.shape)"
   ]
  },
  {
   "cell_type": "code",
   "execution_count": 167,
   "metadata": {},
   "outputs": [
    {
     "data": {
      "text/plain": [
       "array([[0.61835504, 0.12349682, 0.54192569, 0.68794104],\n",
       "       [0.35848295, 0.83590698, 0.10597972, 0.4110574 ],\n",
       "       [0.00564528, 0.39259299, 0.77969032, 0.70634845]])"
      ]
     },
     "execution_count": 167,
     "metadata": {},
     "output_type": "execute_result"
    }
   ],
   "source": [
    "np.random.random((3,4))"
   ]
  },
  {
   "cell_type": "code",
   "execution_count": null,
   "metadata": {},
   "outputs": [],
   "source": []
  }
 ],
 "metadata": {
  "kernelspec": {
   "display_name": "Python 3",
   "language": "python",
   "name": "python3"
  },
  "language_info": {
   "codemirror_mode": {
    "name": "ipython",
    "version": 3
   },
   "file_extension": ".py",
   "mimetype": "text/x-python",
   "name": "python",
   "nbconvert_exporter": "python",
   "pygments_lexer": "ipython3",
   "version": "3.7.3"
  }
 },
 "nbformat": 4,
 "nbformat_minor": 2
}
