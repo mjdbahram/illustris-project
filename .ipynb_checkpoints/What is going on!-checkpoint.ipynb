{
 "cells": [
  {
   "cell_type": "code",
   "execution_count": 4,
   "metadata": {},
   "outputs": [],
   "source": [
    "import requests\n",
    "\n",
    "def get(path, params=None):\n",
    "    r = requests.get(path, params=params, headers=headers)\n",
    "    r.raise_for_status()\n",
    "    if (r.headers['content-type'] == 'application/json'):\n",
    "        return r.json()\n",
    "    \n",
    "    if ('content-disposition' in r.headers):\n",
    "        filename = r.headers['content-disposition'].split(\"filename=\")[1]\n",
    "        with open(filename, 'wb') as f:\n",
    "            f.write(r.content)\n",
    "        return filename\n",
    "    return r\n"
   ]
  },
  {
   "cell_type": "code",
   "execution_count": 5,
   "metadata": {},
   "outputs": [],
   "source": [
    "baseUrl = 'http://www.illustris-project.org/api/'\n",
    "headers = {\"api-key\":\"79d3daabdc8c4290395780680a4e1107\"}"
   ]
  },
  {
   "cell_type": "code",
   "execution_count": 6,
   "metadata": {},
   "outputs": [],
   "source": [
    "r = get(baseUrl)"
   ]
  },
  {
   "cell_type": "code",
   "execution_count": 7,
   "metadata": {},
   "outputs": [
    {
     "data": {
      "text/plain": [
       "dict"
      ]
     },
     "execution_count": 7,
     "metadata": {},
     "output_type": "execute_result"
    }
   ],
   "source": [
    "type(r)"
   ]
  },
  {
   "cell_type": "code",
   "execution_count": 8,
   "metadata": {},
   "outputs": [
    {
     "data": {
      "text/plain": [
       "[u'simulations']"
      ]
     },
     "execution_count": 8,
     "metadata": {},
     "output_type": "execute_result"
    }
   ],
   "source": [
    "r.keys()"
   ]
  },
  {
   "cell_type": "code",
   "execution_count": 10,
   "metadata": {},
   "outputs": [
    {
     "data": {
      "text/plain": [
       "list"
      ]
     },
     "execution_count": 10,
     "metadata": {},
     "output_type": "execute_result"
    }
   ],
   "source": [
    "type(r['simulations'])"
   ]
  },
  {
   "cell_type": "code",
   "execution_count": 11,
   "metadata": {},
   "outputs": [
    {
     "name": "stdout",
     "output_type": "stream",
     "text": [
      "{u'url': u'http://www.illustris-project.org/api/Illustris-1/', u'num_snapshots': 134, u'name': u'Illustris-1'}\n",
      "{u'url': u'http://www.illustris-project.org/api/Illustris-1-Dark/', u'num_snapshots': 136, u'name': u'Illustris-1-Dark'}\n",
      "{u'url': u'http://www.illustris-project.org/api/Illustris-2/', u'num_snapshots': 136, u'name': u'Illustris-2'}\n",
      "{u'url': u'http://www.illustris-project.org/api/Illustris-2-Dark/', u'num_snapshots': 136, u'name': u'Illustris-2-Dark'}\n",
      "{u'url': u'http://www.illustris-project.org/api/Illustris-3/', u'num_snapshots': 136, u'name': u'Illustris-3'}\n",
      "{u'url': u'http://www.illustris-project.org/api/Illustris-3-Dark/', u'num_snapshots': 136, u'name': u'Illustris-3-Dark'}\n",
      "{u'url': u'http://www.illustris-project.org/api/TNG100-1/', u'num_snapshots': 100, u'name': u'TNG100-1'}\n",
      "{u'url': u'http://www.illustris-project.org/api/TNG100-1-Dark/', u'num_snapshots': 100, u'name': u'TNG100-1-Dark'}\n",
      "{u'url': u'http://www.illustris-project.org/api/TNG100-2/', u'num_snapshots': 100, u'name': u'TNG100-2'}\n",
      "{u'url': u'http://www.illustris-project.org/api/TNG100-2-Dark/', u'num_snapshots': 100, u'name': u'TNG100-2-Dark'}\n",
      "{u'url': u'http://www.illustris-project.org/api/TNG100-3/', u'num_snapshots': 100, u'name': u'TNG100-3'}\n",
      "{u'url': u'http://www.illustris-project.org/api/TNG100-3-Dark/', u'num_snapshots': 100, u'name': u'TNG100-3-Dark'}\n",
      "{u'url': u'http://www.illustris-project.org/api/TNG300-3/', u'num_snapshots': 100, u'name': u'TNG300-3'}\n",
      "{u'url': u'http://www.illustris-project.org/api/TNG300-2-Dark/', u'num_snapshots': 100, u'name': u'TNG300-2-Dark'}\n",
      "{u'url': u'http://www.illustris-project.org/api/TNG300-2/', u'num_snapshots': 100, u'name': u'TNG300-2'}\n",
      "{u'url': u'http://www.illustris-project.org/api/TNG300-1-Dark/', u'num_snapshots': 100, u'name': u'TNG300-1-Dark'}\n",
      "{u'url': u'http://www.illustris-project.org/api/TNG300-1/', u'num_snapshots': 100, u'name': u'TNG300-1'}\n",
      "{u'url': u'http://www.illustris-project.org/api/TNG300-3-Dark/', u'num_snapshots': 100, u'name': u'TNG300-3-Dark'}\n",
      "{u'url': u'http://www.illustris-project.org/api/Illustris-1-Subbox0/', u'num_snapshots': 3970, u'name': u'Illustris-1-Subbox0'}\n",
      "{u'url': u'http://www.illustris-project.org/api/Illustris-1-Subbox1/', u'num_snapshots': 3969, u'name': u'Illustris-1-Subbox1'}\n",
      "{u'url': u'http://www.illustris-project.org/api/Illustris-1-Subbox2/', u'num_snapshots': 3972, u'name': u'Illustris-1-Subbox2'}\n",
      "{u'url': u'http://www.illustris-project.org/api/Illustris-1-Subbox3/', u'num_snapshots': 3970, u'name': u'Illustris-1-Subbox3'}\n",
      "{u'url': u'http://www.illustris-project.org/api/Illustris-2-Subbox0/', u'num_snapshots': 2265, u'name': u'Illustris-2-Subbox0'}\n",
      "{u'url': u'http://www.illustris-project.org/api/Illustris-2-Subbox1/', u'num_snapshots': 2265, u'name': u'Illustris-2-Subbox1'}\n",
      "{u'url': u'http://www.illustris-project.org/api/Illustris-2-Subbox2/', u'num_snapshots': 2264, u'name': u'Illustris-2-Subbox2'}\n",
      "{u'url': u'http://www.illustris-project.org/api/Illustris-2-Subbox3/', u'num_snapshots': 2265, u'name': u'Illustris-2-Subbox3'}\n",
      "{u'url': u'http://www.illustris-project.org/api/Illustris-3-Subbox0/', u'num_snapshots': 1426, u'name': u'Illustris-3-Subbox0'}\n",
      "{u'url': u'http://www.illustris-project.org/api/Illustris-3-Subbox1/', u'num_snapshots': 1426, u'name': u'Illustris-3-Subbox1'}\n",
      "{u'url': u'http://www.illustris-project.org/api/Illustris-3-Subbox2/', u'num_snapshots': 1426, u'name': u'Illustris-3-Subbox2'}\n",
      "{u'url': u'http://www.illustris-project.org/api/Illustris-3-Subbox3/', u'num_snapshots': 1426, u'name': u'Illustris-3-Subbox3'}\n",
      "{u'url': u'http://www.illustris-project.org/api/TNG100-1-Subbox0/', u'num_snapshots': 7908, u'name': u'TNG100-1-Subbox0'}\n",
      "{u'url': u'http://www.illustris-project.org/api/TNG100-1-Subbox1/', u'num_snapshots': 7908, u'name': u'TNG100-1-Subbox1'}\n",
      "{u'url': u'http://www.illustris-project.org/api/TNG100-2-Subbox0/', u'num_snapshots': 4380, u'name': u'TNG100-2-Subbox0'}\n",
      "{u'url': u'http://www.illustris-project.org/api/TNG100-2-Subbox1/', u'num_snapshots': 4380, u'name': u'TNG100-2-Subbox1'}\n",
      "{u'url': u'http://www.illustris-project.org/api/TNG100-3-Subbox0/', u'num_snapshots': 2431, u'name': u'TNG100-3-Subbox0'}\n",
      "{u'url': u'http://www.illustris-project.org/api/TNG100-3-Subbox1/', u'num_snapshots': 2431, u'name': u'TNG100-3-Subbox1'}\n",
      "{u'url': u'http://www.illustris-project.org/api/TNG300-3-Subbox1/', u'num_snapshots': 2050, u'name': u'TNG300-3-Subbox1'}\n",
      "{u'url': u'http://www.illustris-project.org/api/TNG300-3-Subbox2/', u'num_snapshots': 2050, u'name': u'TNG300-3-Subbox2'}\n",
      "{u'url': u'http://www.illustris-project.org/api/TNG300-3-Subbox0/', u'num_snapshots': 2050, u'name': u'TNG300-3-Subbox0'}\n",
      "{u'url': u'http://www.illustris-project.org/api/TNG300-2-Subbox1/', u'num_snapshots': 3045, u'name': u'TNG300-2-Subbox1'}\n",
      "{u'url': u'http://www.illustris-project.org/api/TNG300-2-Subbox2/', u'num_snapshots': 3045, u'name': u'TNG300-2-Subbox2'}\n",
      "{u'url': u'http://www.illustris-project.org/api/TNG300-2-Subbox0/', u'num_snapshots': 3045, u'name': u'TNG300-2-Subbox0'}\n",
      "{u'url': u'http://www.illustris-project.org/api/TNG300-1-Subbox1/', u'num_snapshots': 2449, u'name': u'TNG300-1-Subbox1'}\n",
      "{u'url': u'http://www.illustris-project.org/api/TNG300-1-Subbox2/', u'num_snapshots': 2449, u'name': u'TNG300-1-Subbox2'}\n",
      "{u'url': u'http://www.illustris-project.org/api/TNG300-1-Subbox0/', u'num_snapshots': 2449, u'name': u'TNG300-1-Subbox0'}\n"
     ]
    }
   ],
   "source": [
    "for i in r['simulations']:\n",
    "    print(i)"
   ]
  },
  {
   "cell_type": "markdown",
   "metadata": {},
   "source": [
    "Go to one of [URLs](http://www.illustris-project.org/api/Illustris-3-Subbox3/ \"Hell yeah\")\n"
   ]
  },
  {
   "cell_type": "code",
   "execution_count": 15,
   "metadata": {},
   "outputs": [
    {
     "data": {
      "text/plain": [
       "{u'name': u'Illustris-1',\n",
       " u'num_snapshots': 134,\n",
       " u'url': u'http://www.illustris-project.org/api/Illustris-1/'}"
      ]
     },
     "execution_count": 15,
     "metadata": {},
     "output_type": "execute_result"
    }
   ],
   "source": [
    "# r['simulations'] is a list!\n",
    "r['simulations'][0]"
   ]
  },
  {
   "cell_type": "code",
   "execution_count": 16,
   "metadata": {},
   "outputs": [
    {
     "data": {
      "text/plain": [
       "[u'Illustris-1',\n",
       " u'Illustris-1-Dark',\n",
       " u'Illustris-2',\n",
       " u'Illustris-2-Dark',\n",
       " u'Illustris-3',\n",
       " u'Illustris-3-Dark',\n",
       " u'TNG100-1',\n",
       " u'TNG100-1-Dark',\n",
       " u'TNG100-2',\n",
       " u'TNG100-2-Dark',\n",
       " u'TNG100-3',\n",
       " u'TNG100-3-Dark',\n",
       " u'TNG300-3',\n",
       " u'TNG300-2-Dark',\n",
       " u'TNG300-2',\n",
       " u'TNG300-1-Dark',\n",
       " u'TNG300-1',\n",
       " u'TNG300-3-Dark',\n",
       " u'Illustris-1-Subbox0',\n",
       " u'Illustris-1-Subbox1',\n",
       " u'Illustris-1-Subbox2',\n",
       " u'Illustris-1-Subbox3',\n",
       " u'Illustris-2-Subbox0',\n",
       " u'Illustris-2-Subbox1',\n",
       " u'Illustris-2-Subbox2',\n",
       " u'Illustris-2-Subbox3',\n",
       " u'Illustris-3-Subbox0',\n",
       " u'Illustris-3-Subbox1',\n",
       " u'Illustris-3-Subbox2',\n",
       " u'Illustris-3-Subbox3',\n",
       " u'TNG100-1-Subbox0',\n",
       " u'TNG100-1-Subbox1',\n",
       " u'TNG100-2-Subbox0',\n",
       " u'TNG100-2-Subbox1',\n",
       " u'TNG100-3-Subbox0',\n",
       " u'TNG100-3-Subbox1',\n",
       " u'TNG300-3-Subbox1',\n",
       " u'TNG300-3-Subbox2',\n",
       " u'TNG300-3-Subbox0',\n",
       " u'TNG300-2-Subbox1',\n",
       " u'TNG300-2-Subbox2',\n",
       " u'TNG300-2-Subbox0',\n",
       " u'TNG300-1-Subbox1',\n",
       " u'TNG300-1-Subbox2',\n",
       " u'TNG300-1-Subbox0']"
      ]
     },
     "execution_count": 16,
     "metadata": {},
     "output_type": "execute_result"
    }
   ],
   "source": [
    "names = [sim['name'] for sim in r['simulations']]\n",
    "names"
   ]
  },
  {
   "cell_type": "code",
   "execution_count": 17,
   "metadata": {},
   "outputs": [],
   "source": [
    "i = names.index('Illustris-3')"
   ]
  },
  {
   "cell_type": "code",
   "execution_count": 18,
   "metadata": {},
   "outputs": [
    {
     "data": {
      "text/plain": [
       "u'Illustris-3'"
      ]
     },
     "execution_count": 18,
     "metadata": {},
     "output_type": "execute_result"
    }
   ],
   "source": [
    "r['simulations'][i]['name']"
   ]
  },
  {
   "cell_type": "code",
   "execution_count": 19,
   "metadata": {},
   "outputs": [
    {
     "data": {
      "text/plain": [
       "u'http://www.illustris-project.org/api/Illustris-3/'"
      ]
     },
     "execution_count": 19,
     "metadata": {},
     "output_type": "execute_result"
    }
   ],
   "source": [
    "r['simulations'][i]['url']"
   ]
  },
  {
   "cell_type": "code",
   "execution_count": 20,
   "metadata": {},
   "outputs": [],
   "source": [
    "i = names.index('Illustris-3')"
   ]
  },
  {
   "cell_type": "code",
   "execution_count": 21,
   "metadata": {},
   "outputs": [],
   "source": [
    "sim = get( r['simulations'][i]['url'] )"
   ]
  },
  {
   "cell_type": "code",
   "execution_count": 22,
   "metadata": {},
   "outputs": [
    {
     "data": {
      "text/plain": [
       "dict"
      ]
     },
     "execution_count": 22,
     "metadata": {},
     "output_type": "execute_result"
    }
   ],
   "source": [
    "type(sim)"
   ]
  },
  {
   "cell_type": "code",
   "execution_count": 23,
   "metadata": {},
   "outputs": [
    {
     "data": {
      "text/plain": [
       "[u'softening_dm_max_phys',\n",
       " u'omega_0',\n",
       " u'snapshots',\n",
       " u'num_dm',\n",
       " u'filesize_sublink',\n",
       " u'num_tr_vel',\n",
       " u'has_sublink',\n",
       " u'checksums',\n",
       " u'name_alt',\n",
       " u'softening_stars_comoving',\n",
       " u'softening_blackholes_max_phys',\n",
       " u'z_final',\n",
       " u'filesize_ctrees',\n",
       " u'has_starformation',\n",
       " u'num_files_lhalotree',\n",
       " u'is_uniform',\n",
       " u'physics_model',\n",
       " u'mass_dm',\n",
       " u'num_files_groupcat',\n",
       " u'softening_gas_factor',\n",
       " u'has_rockstar',\n",
       " u'is_subbox',\n",
       " u'num_files_snapshot',\n",
       " u'filesize_simulation',\n",
       " u'files',\n",
       " u'num_files_sublink',\n",
       " u'softening_gas_max_phys',\n",
       " u'description',\n",
       " u'mass_gas',\n",
       " u'child_simulations',\n",
       " u'has_blackholes',\n",
       " u'has_winds',\n",
       " u'has_cooling',\n",
       " u'filesize_lhalotree',\n",
       " u'has_fof',\n",
       " u'has_subfind',\n",
       " u'softening_gas_comoving_min',\n",
       " u'num_tr_mc',\n",
       " u'boxsize',\n",
       " u'z_start',\n",
       " u'num_files_ctrees',\n",
       " u'hubble',\n",
       " u'filesize_ics',\n",
       " u'name',\n",
       " u'num_files_rockstar',\n",
       " u'has_ctrees',\n",
       " u'url',\n",
       " u'num_snapshots',\n",
       " u'parent_simulation',\n",
       " u'longids',\n",
       " u'cosmology',\n",
       " u'is_zoom',\n",
       " u'softening_stars_max_phys',\n",
       " u'has_lhalotree',\n",
       " u'omega_L',\n",
       " u'permission_required',\n",
       " u'omega_B',\n",
       " u'softening_blackholes_comoving',\n",
       " u'softening_dm_comoving',\n",
       " u'softening_gas_comoving']"
      ]
     },
     "execution_count": 23,
     "metadata": {},
     "output_type": "execute_result"
    }
   ],
   "source": [
    "sim.keys()"
   ]
  },
  {
   "cell_type": "code",
   "execution_count": 22,
   "metadata": {},
   "outputs": [
    {
     "data": {
      "text/plain": [
       "{'boxsize': 75000.0,\n",
       " 'checksums': 'http://www.illustris-project.org/api/Illustris-3/checksums/',\n",
       " 'child_simulations': ['http://www.illustris-project.org/api/Illustris-3-Subbox0/',\n",
       "  'http://www.illustris-project.org/api/Illustris-3-Subbox1/',\n",
       "  'http://www.illustris-project.org/api/Illustris-3-Subbox2/',\n",
       "  'http://www.illustris-project.org/api/Illustris-3-Subbox3/'],\n",
       " 'cosmology': 'WMAP-9',\n",
       " 'description': 'Low resolution (level 3) Illustris run including the full physics model.',\n",
       " 'files': {'blackhole_details': 'http://www.illustris-project.org/api/Illustris-3/files/blackhole_details.hdf5',\n",
       "  'blackhole_mergers': 'http://www.illustris-project.org/api/Illustris-3/files/blackhole_mergers.hdf5',\n",
       "  'ics': 'http://www.illustris-project.org/api/Illustris-3/files/ics.hdf5',\n",
       "  'lhalotree': 'http://www.illustris-project.org/api/Illustris-3/files/lhalotree/',\n",
       "  'simulation': 'http://www.illustris-project.org/api/Illustris-3/files/simulation.hdf5',\n",
       "  'stellar_assembly': 'http://www.illustris-project.org/api/Illustris-3/files/stellar_assembly.hdf5',\n",
       "  'subhalo_matching_to_dark': 'http://www.illustris-project.org/api/Illustris-3/files/subhalo_matching_to_dark.hdf5',\n",
       "  'sublink': 'http://www.illustris-project.org/api/Illustris-3/files/sublink/'},\n",
       " 'filesize_ctrees': 0.0,\n",
       " 'filesize_ics': 3014288720.0,\n",
       " 'filesize_lhalotree': 4598636036.0,\n",
       " 'filesize_simulation': 75583376.0,\n",
       " 'filesize_sublink': 5882282012.0,\n",
       " 'has_blackholes': True,\n",
       " 'has_cooling': True,\n",
       " 'has_ctrees': False,\n",
       " 'has_fof': True,\n",
       " 'has_lhalotree': True,\n",
       " 'has_rockstar': False,\n",
       " 'has_starformation': True,\n",
       " 'has_subfind': True,\n",
       " 'has_sublink': True,\n",
       " 'has_winds': True,\n",
       " 'hubble': 0.704,\n",
       " 'is_subbox': False,\n",
       " 'is_uniform': True,\n",
       " 'is_zoom': False,\n",
       " 'longids': True,\n",
       " 'mass_dm': 0.0282173775591101,\n",
       " 'mass_gas': 0.0056683392,\n",
       " 'name': 'Illustris-3',\n",
       " 'name_alt': 'L75n455FP',\n",
       " 'num_dm': 94196375,\n",
       " 'num_files_ctrees': 0,\n",
       " 'num_files_groupcat': 2,\n",
       " 'num_files_lhalotree': 128,\n",
       " 'num_files_rockstar': 0,\n",
       " 'num_files_snapshot': 32,\n",
       " 'num_files_sublink': 46,\n",
       " 'num_snapshots': 136,\n",
       " 'num_tr_mc': 94196375,\n",
       " 'num_tr_vel': 0,\n",
       " 'omega_0': 0.2726,\n",
       " 'omega_B': 0.0456,\n",
       " 'omega_L': 0.7274,\n",
       " 'parent_simulation': [],\n",
       " 'permission_required': 4,\n",
       " 'physics_model': 'Fiducial Illustris Model',\n",
       " 'snapshots': 'http://www.illustris-project.org/api/Illustris-3/snapshots/',\n",
       " 'softening_blackholes_comoving': 4.0,\n",
       " 'softening_blackholes_max_phys': 2.0,\n",
       " 'softening_dm_comoving': 4.0,\n",
       " 'softening_dm_max_phys': 4.0,\n",
       " 'softening_gas_comoving': 4.0,\n",
       " 'softening_gas_comoving_min': 2.0,\n",
       " 'softening_gas_factor': 2.5,\n",
       " 'softening_gas_max_phys': 2.0,\n",
       " 'softening_stars_comoving': 4.0,\n",
       " 'softening_stars_max_phys': 2.0,\n",
       " 'url': 'http://www.illustris-project.org/api/Illustris-3/',\n",
       " 'z_final': 0.0,\n",
       " 'z_start': 127.0}"
      ]
     },
     "execution_count": 22,
     "metadata": {},
     "output_type": "execute_result"
    }
   ],
   "source": [
    "sim"
   ]
  },
  {
   "cell_type": "code",
   "execution_count": 24,
   "metadata": {},
   "outputs": [
    {
     "data": {
      "text/plain": [
       "u'http://www.illustris-project.org/api/Illustris-3/snapshots/'"
      ]
     },
     "execution_count": 24,
     "metadata": {},
     "output_type": "execute_result"
    }
   ],
   "source": [
    "sim['snapshots']"
   ]
  },
  {
   "cell_type": "code",
   "execution_count": 26,
   "metadata": {},
   "outputs": [],
   "source": [
    "snaps = get( sim['snapshots'])"
   ]
  },
  {
   "cell_type": "code",
   "execution_count": 27,
   "metadata": {},
   "outputs": [
    {
     "data": {
      "text/plain": [
       "list"
      ]
     },
     "execution_count": 27,
     "metadata": {},
     "output_type": "execute_result"
    }
   ],
   "source": [
    "type(snaps)"
   ]
  },
  {
   "cell_type": "code",
   "execution_count": 33,
   "metadata": {},
   "outputs": [
    {
     "name": "stdout",
     "output_type": "stream",
     "text": [
      "{u'url': u'http://www.illustris-project.org/api/Illustris-3/snapshots/0/', u'num_groups_subfind': 0, u'number': 0, u'redshift': 46.7730473053205}\n",
      "\n",
      "\n",
      "\n",
      "{u'url': u'http://www.illustris-project.org/api/Illustris-3/snapshots/135/', u'num_groups_subfind': 121209, u'number': 135, u'redshift': 2.2204460492503099e-16}\n"
     ]
    }
   ],
   "source": [
    "print(snaps[0])\n",
    "print(\"\\n\\n\")\n",
    "print(snaps[-1])"
   ]
  },
  {
   "cell_type": "code",
   "execution_count": 34,
   "metadata": {},
   "outputs": [
    {
     "data": {
      "text/plain": [
       "dict"
      ]
     },
     "execution_count": 34,
     "metadata": {},
     "output_type": "execute_result"
    }
   ],
   "source": [
    "type(snaps[0])"
   ]
  },
  {
   "cell_type": "code",
   "execution_count": 35,
   "metadata": {},
   "outputs": [
    {
     "data": {
      "text/plain": [
       "{u'num_groups_subfind': 121209,\n",
       " u'number': 135,\n",
       " u'redshift': 2.2204460492503099e-16,\n",
       " u'url': u'http://www.illustris-project.org/api/Illustris-3/snapshots/135/'}"
      ]
     },
     "execution_count": 35,
     "metadata": {},
     "output_type": "execute_result"
    }
   ],
   "source": [
    "snaps[-1]"
   ]
  },
  {
   "cell_type": "code",
   "execution_count": 37,
   "metadata": {},
   "outputs": [
    {
     "data": {
      "text/plain": [
       "{u'files': {u'groupcat': u'http://www.illustris-project.org/api/Illustris-3/files/groupcat-135/',\n",
       "  u'snapshot': u'http://www.illustris-project.org/api/Illustris-3/files/snapshot-135/'},\n",
       " u'filesize_groupcat': 114056740.0,\n",
       " u'filesize_rockstar': 0.0,\n",
       " u'filesize_snapshot': 23437820660.0,\n",
       " u'num_bhs': 33582,\n",
       " u'num_dm': 94196375,\n",
       " u'num_gas': 87571556,\n",
       " u'num_groups_fof': 131727,\n",
       " u'num_groups_rockstar': 0,\n",
       " u'num_groups_subfind': 121209,\n",
       " u'num_stars': 4388167,\n",
       " u'num_trmc': 94196375,\n",
       " u'number': 135,\n",
       " u'redshift': 2.2204460492503099e-16,\n",
       " u'simulation': u'http://www.illustris-project.org/api/Illustris-3/',\n",
       " u'subhalos': u'http://www.illustris-project.org/api/Illustris-3/snapshots/135/subhalos/',\n",
       " u'url': u'http://www.illustris-project.org/api/Illustris-3/snapshots/135/',\n",
       " u'vis': {u'groupcat_fmr': u'http://www.illustris-project.org/api/Illustris-3/snapshots/135/subhalos/plot.png?xQuant=mstar2_log&yQuant=delta_sfms&cQuant=Z_gas&xlim=8.5%2C11.0&ylim=-1.5%2C1.5&cRel=0.7%2C1.3',\n",
       "  u'groupcat_halo_sizemass': u'http://www.illustris-project.org/api/Illustris-3/snapshots/135/subhalos/plot.png?xQuant=mhalo_200_log&yQuant=rhalo_200&xlim=9.0%2C15.0',\n",
       "  u'groupcat_mstar_mhalo': u'http://www.illustris-project.org/api/Illustris-3/snapshots/135/subhalos/plot.png?xQuant=mhalo_200_log&yQuant=mstar2_log',\n",
       "  u'groupcat_mz_gas': u'http://www.illustris-project.org/api/Illustris-3/snapshots/135/subhalos/plot.png?xQuant=mstar2_log&yQuant=Z_gas',\n",
       "  u'groupcat_mz_stars': u'http://www.illustris-project.org/api/Illustris-3/snapshots/135/subhalos/plot.png?xQuant=mstar2_log&yQuant=Z_stars',\n",
       "  u'groupcat_sfms': u'http://www.illustris-project.org/api/Illustris-3/snapshots/135/subhalos/plot.png?xQuant=mstar2_log&yQuant=ssfr&xlim=9.0%2C11.0',\n",
       "  u'groupcat_sizemass': u'http://www.illustris-project.org/api/Illustris-3/snapshots/135/subhalos/plot.png?xQuant=mstar2_log&yQuant=size_stars',\n",
       "  u'groupcat_smhm': u'http://www.illustris-project.org/api/Illustris-3/snapshots/135/subhalos/plot.png?xQuant=mhalo_200_log&yQuant=mstar2_mhalo200_ratio&xlim=10.0%2C14.5'}}"
      ]
     },
     "execution_count": 37,
     "metadata": {},
     "output_type": "execute_result"
    }
   ],
   "source": [
    "snap = get(snaps[-1]['url'])\n",
    "snap"
   ]
  },
  {
   "cell_type": "code",
   "execution_count": 40,
   "metadata": {},
   "outputs": [
    {
     "data": {
      "text/plain": [
       "[u'count', u'previous', u'results', u'next']"
      ]
     },
     "execution_count": 40,
     "metadata": {},
     "output_type": "execute_result"
    }
   ],
   "source": [
    "subs = get( snap['subhalos'] )\n",
    "subs.keys()"
   ]
  },
  {
   "cell_type": "code",
   "execution_count": 41,
   "metadata": {},
   "outputs": [
    {
     "data": {
      "text/plain": [
       "121209"
      ]
     },
     "execution_count": 41,
     "metadata": {},
     "output_type": "execute_result"
    }
   ],
   "source": [
    "subs['count']"
   ]
  },
  {
   "cell_type": "code",
   "execution_count": 42,
   "metadata": {},
   "outputs": [
    {
     "data": {
      "text/plain": [
       "u'http://www.illustris-project.org/api/Illustris-3/snapshots/135/subhalos/?limit=100&offset=100'"
      ]
     },
     "execution_count": 42,
     "metadata": {},
     "output_type": "execute_result"
    }
   ],
   "source": [
    "subs['next']"
   ]
  },
  {
   "cell_type": "code",
   "execution_count": 43,
   "metadata": {},
   "outputs": [
    {
     "data": {
      "text/plain": [
       "100"
      ]
     },
     "execution_count": 43,
     "metadata": {},
     "output_type": "execute_result"
    }
   ],
   "source": [
    "len(subs['results'])"
   ]
  },
  {
   "cell_type": "code",
   "execution_count": 47,
   "metadata": {},
   "outputs": [],
   "source": [
    "subs = get( snap['subhalos'],{'limit':100} )\n"
   ]
  },
  {
   "cell_type": "code",
   "execution_count": 48,
   "metadata": {},
   "outputs": [
    {
     "data": {
      "text/plain": [
       "100"
      ]
     },
     "execution_count": 48,
     "metadata": {},
     "output_type": "execute_result"
    }
   ],
   "source": [
    "len(subs['results'])"
   ]
  },
  {
   "cell_type": "code",
   "execution_count": 49,
   "metadata": {},
   "outputs": [
    {
     "data": {
      "text/plain": [
       "u'http://www.illustris-project.org/api/Illustris-3/snapshots/135/subhalos/?limit=100&offset=100'"
      ]
     },
     "execution_count": 49,
     "metadata": {},
     "output_type": "execute_result"
    }
   ],
   "source": [
    "subs['next']"
   ]
  },
  {
   "cell_type": "code",
   "execution_count": 50,
   "metadata": {},
   "outputs": [
    {
     "data": {
      "text/plain": [
       "{u'id': 0,\n",
       " u'mass_log_msun': 14.554690443287308,\n",
       " u'sfr': 4.11098,\n",
       " u'url': u'http://www.illustris-project.org/api/Illustris-3/snapshots/135/subhalos/0/'}"
      ]
     },
     "execution_count": 50,
     "metadata": {},
     "output_type": "execute_result"
    }
   ],
   "source": [
    "subs['results'][0]"
   ]
  },
  {
   "cell_type": "code",
   "execution_count": 51,
   "metadata": {},
   "outputs": [],
   "source": [
    "subs = get( snap['subhalos'], {'limit':20, 'order_by':'-mass_stars'} )"
   ]
  },
  {
   "cell_type": "code",
   "execution_count": 52,
   "metadata": {},
   "outputs": [
    {
     "data": {
      "text/plain": [
       "20"
      ]
     },
     "execution_count": 52,
     "metadata": {},
     "output_type": "execute_result"
    }
   ],
   "source": [
    "len(subs['results'])"
   ]
  },
  {
   "cell_type": "code",
   "execution_count": 53,
   "metadata": {},
   "outputs": [
    {
     "data": {
      "text/plain": [
       "[{u'id': 0,\n",
       "  u'mass_log_msun': 14.554690443287308,\n",
       "  u'sfr': 4.11098,\n",
       "  u'url': u'http://www.illustris-project.org/api/Illustris-3/snapshots/135/subhalos/0/'},\n",
       " {u'id': 1030,\n",
       "  u'mass_log_msun': 14.463398767443746,\n",
       "  u'sfr': 5.53373,\n",
       "  u'url': u'http://www.illustris-project.org/api/Illustris-3/snapshots/135/subhalos/1030/'},\n",
       " {u'id': 2074,\n",
       "  u'mass_log_msun': 14.264626677432114,\n",
       "  u'sfr': 0.0,\n",
       "  u'url': u'http://www.illustris-project.org/api/Illustris-3/snapshots/135/subhalos/2074/'},\n",
       " {u'id': 2302,\n",
       "  u'mass_log_msun': 14.237203741327082,\n",
       "  u'sfr': 0.0,\n",
       "  u'url': u'http://www.illustris-project.org/api/Illustris-3/snapshots/135/subhalos/2302/'},\n",
       " {u'id': 2843,\n",
       "  u'mass_log_msun': 14.190852761717686,\n",
       "  u'sfr': 0.0,\n",
       "  u'url': u'http://www.illustris-project.org/api/Illustris-3/snapshots/135/subhalos/2843/'},\n",
       " {u'id': 608,\n",
       "  u'mass_log_msun': 14.515478700377676,\n",
       "  u'sfr': 0.0,\n",
       "  u'url': u'http://www.illustris-project.org/api/Illustris-3/snapshots/135/subhalos/608/'},\n",
       " {u'id': 5337,\n",
       "  u'mass_log_msun': 13.769328013596636,\n",
       "  u'sfr': 0.0,\n",
       "  u'url': u'http://www.illustris-project.org/api/Illustris-3/snapshots/135/subhalos/5337/'},\n",
       " {u'id': 3315,\n",
       "  u'mass_log_msun': 14.168988545955989,\n",
       "  u'sfr': 1.37689,\n",
       "  u'url': u'http://www.illustris-project.org/api/Illustris-3/snapshots/135/subhalos/3315/'},\n",
       " {u'id': 1396,\n",
       "  u'mass_log_msun': 14.236331103604229,\n",
       "  u'sfr': 0.0,\n",
       "  u'url': u'http://www.illustris-project.org/api/Illustris-3/snapshots/135/subhalos/1396/'},\n",
       " {u'id': 4637,\n",
       "  u'mass_log_msun': 13.886583650147475,\n",
       "  u'sfr': 0.0,\n",
       "  u'url': u'http://www.illustris-project.org/api/Illustris-3/snapshots/135/subhalos/4637/'},\n",
       " {u'id': 3053,\n",
       "  u'mass_log_msun': 14.199394392778233,\n",
       "  u'sfr': 0.0,\n",
       "  u'url': u'http://www.illustris-project.org/api/Illustris-3/snapshots/135/subhalos/3053/'},\n",
       " {u'id': 3528,\n",
       "  u'mass_log_msun': 14.065765327207924,\n",
       "  u'sfr': 0.0,\n",
       "  u'url': u'http://www.illustris-project.org/api/Illustris-3/snapshots/135/subhalos/3528/'},\n",
       " {u'id': 4269,\n",
       "  u'mass_log_msun': 13.977389054128315,\n",
       "  u'sfr': 1.15287,\n",
       "  u'url': u'http://www.illustris-project.org/api/Illustris-3/snapshots/135/subhalos/4269/'},\n",
       " {u'id': 1801,\n",
       "  u'mass_log_msun': 14.274980690482504,\n",
       "  u'sfr': 0.714258,\n",
       "  u'url': u'http://www.illustris-project.org/api/Illustris-3/snapshots/135/subhalos/1801/'},\n",
       " {u'id': 5709,\n",
       "  u'mass_log_msun': 13.714600014046935,\n",
       "  u'sfr': 2.47867,\n",
       "  u'url': u'http://www.illustris-project.org/api/Illustris-3/snapshots/135/subhalos/5709/'},\n",
       " {u'id': 4126,\n",
       "  u'mass_log_msun': 13.90686512590302,\n",
       "  u'sfr': 4.02942,\n",
       "  u'url': u'http://www.illustris-project.org/api/Illustris-3/snapshots/135/subhalos/4126/'},\n",
       " {u'id': 7144,\n",
       "  u'mass_log_msun': 13.582637890637235,\n",
       "  u'sfr': 1.26355,\n",
       "  u'url': u'http://www.illustris-project.org/api/Illustris-3/snapshots/135/subhalos/7144/'},\n",
       " {u'id': 2570,\n",
       "  u'mass_log_msun': 13.556689601528896,\n",
       "  u'sfr': 8.71553,\n",
       "  u'url': u'http://www.illustris-project.org/api/Illustris-3/snapshots/135/subhalos/2570/'},\n",
       " {u'id': 2569,\n",
       "  u'mass_log_msun': 13.986396983461088,\n",
       "  u'sfr': 0.0,\n",
       "  u'url': u'http://www.illustris-project.org/api/Illustris-3/snapshots/135/subhalos/2569/'},\n",
       " {u'id': 7187,\n",
       "  u'mass_log_msun': 13.59764377491842,\n",
       "  u'sfr': 0.0,\n",
       "  u'url': u'http://www.illustris-project.org/api/Illustris-3/snapshots/135/subhalos/7187/'}]"
      ]
     },
     "execution_count": 53,
     "metadata": {},
     "output_type": "execute_result"
    }
   ],
   "source": [
    "subs['results']"
   ]
  },
  {
   "cell_type": "code",
   "execution_count": 54,
   "metadata": {},
   "outputs": [
    {
     "data": {
      "text/plain": [
       "[0, 1030, 2074, 2302, 2843]"
      ]
     },
     "execution_count": 54,
     "metadata": {},
     "output_type": "execute_result"
    }
   ],
   "source": [
    "[ subs['results'][i]['id'] for i in range(5) ]"
   ]
  },
  {
   "cell_type": "code",
   "execution_count": 56,
   "metadata": {},
   "outputs": [],
   "source": [
    "sub = get( subs['results'][1]['url'] )"
   ]
  },
  {
   "cell_type": "code",
   "execution_count": 57,
   "metadata": {},
   "outputs": [
    {
     "data": {
      "text/plain": [
       "{u'bhmdot': 0.199144,\n",
       " u'cm_x': 10992.8,\n",
       " u'cm_y': 50807.7,\n",
       " u'cm_z': 47671.3,\n",
       " u'cutouts': {u'parent_halo': u'http://www.illustris-project.org/api/Illustris-3/snapshots/135/halos/2/cutout.hdf5',\n",
       "  u'subhalo': u'http://www.illustris-project.org/api/Illustris-3/snapshots/135/subhalos/1030/cutout.hdf5'},\n",
       " u'desc_sfid': -1,\n",
       " u'desc_snap': -1,\n",
       " u'gasmetallicity': 0.00787963,\n",
       " u'gasmetallicityhalfrad': 0.0167215,\n",
       " u'gasmetallicitymaxrad': 0.053106,\n",
       " u'gasmetallicitysfr': 0.0510764,\n",
       " u'gasmetallicitysfrweighted': 0.0518217,\n",
       " u'grnr': 2,\n",
       " u'halfmassrad': 527.237,\n",
       " u'halfmassrad_bhs': 0.0,\n",
       " u'halfmassrad_dm': 510.476,\n",
       " u'halfmassrad_gas': 660.879,\n",
       " u'halfmassrad_stars': 50.759,\n",
       " u'id': 1030,\n",
       " u'len': 1113373,\n",
       " u'len_bhs': 71,\n",
       " u'len_dm': 624445,\n",
       " u'len_gas': 448911,\n",
       " u'len_stars': 39946,\n",
       " u'mass': 20463.1,\n",
       " u'mass_bhs': 6.04079,\n",
       " u'mass_dm': 17620.2,\n",
       " u'mass_gas': 2678.49,\n",
       " u'mass_log_msun': 14.463398767443746,\n",
       " u'mass_stars': 158.333,\n",
       " u'massinhalfrad': 496.772,\n",
       " u'massinhalfrad_bhs': 5.31633,\n",
       " u'massinhalfrad_dm': 406.895,\n",
       " u'massinhalfrad_gas': 5.39936,\n",
       " u'massinhalfrad_stars': 79.1619,\n",
       " u'massinmaxrad': 5.28624,\n",
       " u'massinmaxrad_bhs': 5.26353,\n",
       " u'massinmaxrad_dm': 0.0,\n",
       " u'massinmaxrad_gas': 0.007397,\n",
       " u'massinmaxrad_stars': 0.015315,\n",
       " u'massinrad': 1352.77,\n",
       " u'massinrad_bhs': 5.56788,\n",
       " u'massinrad_dm': 1217.89,\n",
       " u'massinrad_gas': 28.3612,\n",
       " u'massinrad_stars': 100.954,\n",
       " u'meta': {u'info': u'http://www.illustris-project.org/api/Illustris-3/snapshots/135/subhalos/1030/info.json',\n",
       "  u'simulation': u'http://www.illustris-project.org/api/Illustris-3/',\n",
       "  u'snapshot': u'http://www.illustris-project.org/api/Illustris-3/snapshots/135/',\n",
       "  u'url': u'http://www.illustris-project.org/api/Illustris-3/snapshots/135/subhalos/1030/'},\n",
       " u'parent': 0,\n",
       " u'pos_x': 10908.2,\n",
       " u'pos_y': 50865.5,\n",
       " u'pos_z': 47651.8,\n",
       " u'primary_flag': 1,\n",
       " u'prog_sfid': 1004,\n",
       " u'prog_snap': 134,\n",
       " u'related': {u'parent_halo': u'http://www.illustris-project.org/api/Illustris-3/snapshots/135/halos/2/',\n",
       "  u'sublink_descendant': None,\n",
       "  u'sublink_progenitor': u'http://www.illustris-project.org/api/Illustris-3/snapshots/134/subhalos/1004/'},\n",
       " u'sfr': 5.53373,\n",
       " u'sfrinhalfrad': 5.53373,\n",
       " u'sfrinmaxrad': 0.181456,\n",
       " u'sfrinrad': 5.53373,\n",
       " u'snap': 135,\n",
       " u'spin_x': 11334.7,\n",
       " u'spin_y': -6038.99,\n",
       " u'spin_z': -57340.1,\n",
       " u'starmetallicity': 0.0265244,\n",
       " u'starmetallicityhalfrad': 0.0295919,\n",
       " u'starmetallicitymaxrad': 0.050617,\n",
       " u'stellarphotometrics_b': -23.9747,\n",
       " u'stellarphotometrics_g': -24.4276,\n",
       " u'stellarphotometrics_i': -25.5364,\n",
       " u'stellarphotometrics_k': -27.7757,\n",
       " u'stellarphotometrics_r': -25.1773,\n",
       " u'stellarphotometrics_u': -23.5693,\n",
       " u'stellarphotometrics_v': -24.8368,\n",
       " u'stellarphotometrics_z': -25.7921,\n",
       " u'stellarphotometricsmassinrad': 66.8636,\n",
       " u'stellarphotometricsrad': 28.5133,\n",
       " u'supplementary_data': {},\n",
       " u'trees': {u'lhalotree': u'http://www.illustris-project.org/api/Illustris-3/snapshots/135/subhalos/1030/lhalotree/full.hdf5',\n",
       "  u'lhalotree_mpb': u'http://www.illustris-project.org/api/Illustris-3/snapshots/135/subhalos/1030/lhalotree/mpb.hdf5',\n",
       "  u'sublink': u'http://www.illustris-project.org/api/Illustris-3/snapshots/135/subhalos/1030/sublink/full.hdf5',\n",
       "  u'sublink_mdb': u'http://www.illustris-project.org/api/Illustris-3/snapshots/135/subhalos/1030/sublink/mdb.hdf5',\n",
       "  u'sublink_mpb': u'http://www.illustris-project.org/api/Illustris-3/snapshots/135/subhalos/1030/sublink/mpb.hdf5',\n",
       "  u'sublink_simple': u'http://www.illustris-project.org/api/Illustris-3/snapshots/135/subhalos/1030/sublink/simple.json'},\n",
       " u'vel_x': 245.727,\n",
       " u'vel_y': -93.7855,\n",
       " u'vel_z': 70.685,\n",
       " u'veldisp': 541.908,\n",
       " u'vis': {u'galaxy_gas_dens': u'http://www.illustris-project.org/api/Illustris-3/snapshots/135/halos/1030/vis.png?partType=gas&size=5.0&sizeType=rHalfMassStars',\n",
       "  u'galaxy_gas_dens_faceon': u'http://www.illustris-project.org/api/Illustris-3/snapshots/135/halos/1030/vis.png?partType=gas&size=5.0&sizeType=rHalfMassStars&rotation=face-on',\n",
       "  u'galaxy_stellar_light': u'http://www.illustris-project.org/api/Illustris-3/snapshots/135/halos/1030/vis.png?partType=stars&partField=stellarComp-jwst_f200w-jwst_f115w-jwst_f070w&size=5.0&sizeType=rHalfMassStars',\n",
       "  u'galaxy_stellar_light_faceon': u'http://www.illustris-project.org/api/Illustris-3/snapshots/135/halos/1030/vis.png?partType=stars&partField=stellarComp-jwst_f200w-jwst_f115w-jwst_f070w&size=5.0&sizeType=rHalfMassStars&rotation=face-on',\n",
       "  u'halo_dm_dens': u'http://www.illustris-project.org/api/Illustris-3/snapshots/135/halos/1030/vis.png?partType=dm',\n",
       "  u'halo_gas_dens': u'http://www.illustris-project.org/api/Illustris-3/snapshots/135/halos/1030/vis.png?partType=gas',\n",
       "  u'halo_gas_temp': u'http://www.illustris-project.org/api/Illustris-3/snapshots/135/halos/1030/vis.png?partType=gas&partField=temp',\n",
       "  u'halo_stellar_dens': u'http://www.illustris-project.org/api/Illustris-3/snapshots/135/halos/1030/vis.png?partType=stars',\n",
       "  u'mergertree_sublink': u'http://www.illustris-project.org/api/Illustris-3/snapshots/135/subhalos/1030/sublink/tree.png'},\n",
       " u'vmax': 1057.54,\n",
       " u'vmaxrad': 0.2035,\n",
       " u'windmass': 0.169171}"
      ]
     },
     "execution_count": 57,
     "metadata": {},
     "output_type": "execute_result"
    }
   ],
   "source": [
    "sub"
   ]
  },
  {
   "cell_type": "code",
   "execution_count": 58,
   "metadata": {},
   "outputs": [],
   "source": [
    "url = sim['snapshots']"
   ]
  },
  {
   "cell_type": "code",
   "execution_count": 59,
   "metadata": {},
   "outputs": [
    {
     "data": {
      "text/plain": [
       "u'http://www.illustris-project.org/api/Illustris-3/snapshots/'"
      ]
     },
     "execution_count": 59,
     "metadata": {},
     "output_type": "execute_result"
    }
   ],
   "source": [
    "url"
   ]
  },
  {
   "cell_type": "code",
   "execution_count": 60,
   "metadata": {},
   "outputs": [],
   "source": [
    "url = sim['snapshots'] + \"z=1/\""
   ]
  },
  {
   "cell_type": "code",
   "execution_count": 61,
   "metadata": {},
   "outputs": [
    {
     "data": {
      "text/plain": [
       "u'http://www.illustris-project.org/api/Illustris-3/snapshots/z=1/'"
      ]
     },
     "execution_count": 61,
     "metadata": {},
     "output_type": "execute_result"
    }
   ],
   "source": [
    "url"
   ]
  },
  {
   "cell_type": "code",
   "execution_count": 62,
   "metadata": {},
   "outputs": [],
   "source": [
    "snap = get(url)"
   ]
  },
  {
   "cell_type": "code",
   "execution_count": 63,
   "metadata": {},
   "outputs": [
    {
     "data": {
      "text/plain": [
       "{u'files': {u'groupcat': u'http://www.illustris-project.org/api/Illustris-3/files/groupcat-85/',\n",
       "  u'snapshot': u'http://www.illustris-project.org/api/Illustris-3/files/snapshot-85/'},\n",
       " u'filesize_groupcat': 131829608.0,\n",
       " u'filesize_rockstar': 0.0,\n",
       " u'filesize_snapshot': 23464492252.0,\n",
       " u'num_bhs': 33473,\n",
       " u'num_dm': 94196375,\n",
       " u'num_gas': 89521297,\n",
       " u'num_groups_fof': 141680,\n",
       " u'num_groups_rockstar': 0,\n",
       " u'num_groups_subfind': 144987,\n",
       " u'num_stars': 2634624,\n",
       " u'num_trmc': 94196375,\n",
       " u'number': 85,\n",
       " u'redshift': 0.9972942257819399,\n",
       " u'simulation': u'http://www.illustris-project.org/api/Illustris-3/',\n",
       " u'subhalos': u'http://www.illustris-project.org/api/Illustris-3/snapshots/85/subhalos/',\n",
       " u'url': u'http://www.illustris-project.org/api/Illustris-3/snapshots/85/',\n",
       " u'vis': {u'groupcat_fmr': u'http://www.illustris-project.org/api/Illustris-3/snapshots/85/subhalos/plot.png?xQuant=mstar2_log&yQuant=delta_sfms&cQuant=Z_gas&xlim=8.5%2C11.0&ylim=-1.5%2C1.5&cRel=0.7%2C1.3',\n",
       "  u'groupcat_halo_sizemass': u'http://www.illustris-project.org/api/Illustris-3/snapshots/85/subhalos/plot.png?xQuant=mhalo_200_log&yQuant=rhalo_200&xlim=9.0%2C15.0',\n",
       "  u'groupcat_mstar_mhalo': u'http://www.illustris-project.org/api/Illustris-3/snapshots/85/subhalos/plot.png?xQuant=mhalo_200_log&yQuant=mstar2_log',\n",
       "  u'groupcat_mz_gas': u'http://www.illustris-project.org/api/Illustris-3/snapshots/85/subhalos/plot.png?xQuant=mstar2_log&yQuant=Z_gas',\n",
       "  u'groupcat_mz_stars': u'http://www.illustris-project.org/api/Illustris-3/snapshots/85/subhalos/plot.png?xQuant=mstar2_log&yQuant=Z_stars',\n",
       "  u'groupcat_sfms': u'http://www.illustris-project.org/api/Illustris-3/snapshots/85/subhalos/plot.png?xQuant=mstar2_log&yQuant=ssfr&xlim=9.0%2C11.0',\n",
       "  u'groupcat_sizemass': u'http://www.illustris-project.org/api/Illustris-3/snapshots/85/subhalos/plot.png?xQuant=mstar2_log&yQuant=size_stars',\n",
       "  u'groupcat_smhm': u'http://www.illustris-project.org/api/Illustris-3/snapshots/85/subhalos/plot.png?xQuant=mhalo_200_log&yQuant=mstar2_mhalo200_ratio&xlim=10.0%2C14.5'}}"
      ]
     },
     "execution_count": 63,
     "metadata": {},
     "output_type": "execute_result"
    }
   ],
   "source": [
    "snap"
   ]
  },
  {
   "cell_type": "code",
   "execution_count": 64,
   "metadata": {},
   "outputs": [
    {
     "data": {
      "text/plain": [
       "(85, 0.9972942257819399)"
      ]
     },
     "execution_count": 64,
     "metadata": {},
     "output_type": "execute_result"
    }
   ],
   "source": [
    "snap['number'], snap['redshift']"
   ]
  },
  {
   "cell_type": "markdown",
   "metadata": {},
   "source": [
    "### Snapshots"
   ]
  },
  {
   "cell_type": "code",
   "execution_count": 66,
   "metadata": {},
   "outputs": [],
   "source": [
    "url = \"http://www.illustris-project.org/api/Illustris-3/snapshots/135/\""
   ]
  },
  {
   "cell_type": "code",
   "execution_count": 67,
   "metadata": {},
   "outputs": [],
   "source": [
    "url_i3 = \"http://www.illustris-project.org/api/Illustris-3\""
   ]
  },
  {
   "cell_type": "code",
   "execution_count": 68,
   "metadata": {},
   "outputs": [],
   "source": [
    "i3 = get(url)"
   ]
  },
  {
   "cell_type": "code",
   "execution_count": 69,
   "metadata": {},
   "outputs": [
    {
     "data": {
      "text/plain": [
       "{u'files': {u'groupcat': u'http://www.illustris-project.org/api/Illustris-3/files/groupcat-135/',\n",
       "  u'snapshot': u'http://www.illustris-project.org/api/Illustris-3/files/snapshot-135/'},\n",
       " u'filesize_groupcat': 114056740.0,\n",
       " u'filesize_rockstar': 0.0,\n",
       " u'filesize_snapshot': 23437820660.0,\n",
       " u'num_bhs': 33582,\n",
       " u'num_dm': 94196375,\n",
       " u'num_gas': 87571556,\n",
       " u'num_groups_fof': 131727,\n",
       " u'num_groups_rockstar': 0,\n",
       " u'num_groups_subfind': 121209,\n",
       " u'num_stars': 4388167,\n",
       " u'num_trmc': 94196375,\n",
       " u'number': 135,\n",
       " u'redshift': 2.2204460492503099e-16,\n",
       " u'simulation': u'http://www.illustris-project.org/api/Illustris-3/',\n",
       " u'subhalos': u'http://www.illustris-project.org/api/Illustris-3/snapshots/135/subhalos/',\n",
       " u'url': u'http://www.illustris-project.org/api/Illustris-3/snapshots/135/',\n",
       " u'vis': {u'groupcat_fmr': u'http://www.illustris-project.org/api/Illustris-3/snapshots/135/subhalos/plot.png?xQuant=mstar2_log&yQuant=delta_sfms&cQuant=Z_gas&xlim=8.5%2C11.0&ylim=-1.5%2C1.5&cRel=0.7%2C1.3',\n",
       "  u'groupcat_halo_sizemass': u'http://www.illustris-project.org/api/Illustris-3/snapshots/135/subhalos/plot.png?xQuant=mhalo_200_log&yQuant=rhalo_200&xlim=9.0%2C15.0',\n",
       "  u'groupcat_mstar_mhalo': u'http://www.illustris-project.org/api/Illustris-3/snapshots/135/subhalos/plot.png?xQuant=mhalo_200_log&yQuant=mstar2_log',\n",
       "  u'groupcat_mz_gas': u'http://www.illustris-project.org/api/Illustris-3/snapshots/135/subhalos/plot.png?xQuant=mstar2_log&yQuant=Z_gas',\n",
       "  u'groupcat_mz_stars': u'http://www.illustris-project.org/api/Illustris-3/snapshots/135/subhalos/plot.png?xQuant=mstar2_log&yQuant=Z_stars',\n",
       "  u'groupcat_sfms': u'http://www.illustris-project.org/api/Illustris-3/snapshots/135/subhalos/plot.png?xQuant=mstar2_log&yQuant=ssfr&xlim=9.0%2C11.0',\n",
       "  u'groupcat_sizemass': u'http://www.illustris-project.org/api/Illustris-3/snapshots/135/subhalos/plot.png?xQuant=mstar2_log&yQuant=size_stars',\n",
       "  u'groupcat_smhm': u'http://www.illustris-project.org/api/Illustris-3/snapshots/135/subhalos/plot.png?xQuant=mhalo_200_log&yQuant=mstar2_mhalo200_ratio&xlim=10.0%2C14.5'}}"
      ]
     },
     "execution_count": 69,
     "metadata": {},
     "output_type": "execute_result"
    }
   ],
   "source": [
    "i3"
   ]
  },
  {
   "cell_type": "code",
   "execution_count": 75,
   "metadata": {},
   "outputs": [],
   "source": [
    "i3_snaps_url = i3['files']['snapshot']"
   ]
  },
  {
   "cell_type": "code",
   "execution_count": 76,
   "metadata": {},
   "outputs": [],
   "source": [
    "i3_snaps = get( i3_snaps_url )"
   ]
  },
  {
   "cell_type": "code",
   "execution_count": 77,
   "metadata": {
    "scrolled": true
   },
   "outputs": [
    {
     "data": {
      "text/plain": [
       "{u'files': [u'http://www.illustris-project.org/api/Illustris-3/files/snapshot-135.0.hdf5',\n",
       "  u'http://www.illustris-project.org/api/Illustris-3/files/snapshot-135.1.hdf5',\n",
       "  u'http://www.illustris-project.org/api/Illustris-3/files/snapshot-135.2.hdf5',\n",
       "  u'http://www.illustris-project.org/api/Illustris-3/files/snapshot-135.3.hdf5',\n",
       "  u'http://www.illustris-project.org/api/Illustris-3/files/snapshot-135.4.hdf5',\n",
       "  u'http://www.illustris-project.org/api/Illustris-3/files/snapshot-135.5.hdf5',\n",
       "  u'http://www.illustris-project.org/api/Illustris-3/files/snapshot-135.6.hdf5',\n",
       "  u'http://www.illustris-project.org/api/Illustris-3/files/snapshot-135.7.hdf5',\n",
       "  u'http://www.illustris-project.org/api/Illustris-3/files/snapshot-135.8.hdf5',\n",
       "  u'http://www.illustris-project.org/api/Illustris-3/files/snapshot-135.9.hdf5',\n",
       "  u'http://www.illustris-project.org/api/Illustris-3/files/snapshot-135.10.hdf5',\n",
       "  u'http://www.illustris-project.org/api/Illustris-3/files/snapshot-135.11.hdf5',\n",
       "  u'http://www.illustris-project.org/api/Illustris-3/files/snapshot-135.12.hdf5',\n",
       "  u'http://www.illustris-project.org/api/Illustris-3/files/snapshot-135.13.hdf5',\n",
       "  u'http://www.illustris-project.org/api/Illustris-3/files/snapshot-135.14.hdf5',\n",
       "  u'http://www.illustris-project.org/api/Illustris-3/files/snapshot-135.15.hdf5',\n",
       "  u'http://www.illustris-project.org/api/Illustris-3/files/snapshot-135.16.hdf5',\n",
       "  u'http://www.illustris-project.org/api/Illustris-3/files/snapshot-135.17.hdf5',\n",
       "  u'http://www.illustris-project.org/api/Illustris-3/files/snapshot-135.18.hdf5',\n",
       "  u'http://www.illustris-project.org/api/Illustris-3/files/snapshot-135.19.hdf5',\n",
       "  u'http://www.illustris-project.org/api/Illustris-3/files/snapshot-135.20.hdf5',\n",
       "  u'http://www.illustris-project.org/api/Illustris-3/files/snapshot-135.21.hdf5',\n",
       "  u'http://www.illustris-project.org/api/Illustris-3/files/snapshot-135.22.hdf5',\n",
       "  u'http://www.illustris-project.org/api/Illustris-3/files/snapshot-135.23.hdf5',\n",
       "  u'http://www.illustris-project.org/api/Illustris-3/files/snapshot-135.24.hdf5',\n",
       "  u'http://www.illustris-project.org/api/Illustris-3/files/snapshot-135.25.hdf5',\n",
       "  u'http://www.illustris-project.org/api/Illustris-3/files/snapshot-135.26.hdf5',\n",
       "  u'http://www.illustris-project.org/api/Illustris-3/files/snapshot-135.27.hdf5',\n",
       "  u'http://www.illustris-project.org/api/Illustris-3/files/snapshot-135.28.hdf5',\n",
       "  u'http://www.illustris-project.org/api/Illustris-3/files/snapshot-135.29.hdf5',\n",
       "  u'http://www.illustris-project.org/api/Illustris-3/files/snapshot-135.30.hdf5',\n",
       "  u'http://www.illustris-project.org/api/Illustris-3/files/snapshot-135.31.hdf5']}"
      ]
     },
     "execution_count": 77,
     "metadata": {},
     "output_type": "execute_result"
    }
   ],
   "source": [
    "i3_snaps"
   ]
  },
  {
   "cell_type": "code",
   "execution_count": 83,
   "metadata": {},
   "outputs": [],
   "source": [
    "i3_snaps_0_url = \"http://www.illustris-project.org/api/Illustris-3/files/snapshot-135.0.hdf5\""
   ]
  },
  {
   "cell_type": "code",
   "execution_count": 84,
   "metadata": {},
   "outputs": [],
   "source": [
    "ccc = get(i3_snaps_0_url, {'gas':'Coordinates,Masses,NeutralHydrogenAbundance'})"
   ]
  },
  {
   "cell_type": "code",
   "execution_count": 85,
   "metadata": {},
   "outputs": [
    {
     "data": {
      "text/plain": [
       "'snap_135.0.hdf5'"
      ]
     },
     "execution_count": 85,
     "metadata": {},
     "output_type": "execute_result"
    }
   ],
   "source": [
    "ccc"
   ]
  },
  {
   "cell_type": "code",
   "execution_count": 87,
   "metadata": {},
   "outputs": [],
   "source": [
    "import h5py"
   ]
  },
  {
   "cell_type": "code",
   "execution_count": 88,
   "metadata": {},
   "outputs": [],
   "source": [
    "with h5py.File(ccc,'r') as f:\n",
    "    x = f['PartType0']['Coordinates'][:,0]\n",
    "    y = f['PartType0']['Coordinates'][:,1]\n",
    "    z = f['PartType0']['Coordinates'][:,2]\n",
    "    \n",
    "    dens = f['PartType0']['Masses'][:]\n",
    "    Neutral_H = f['PartType0']['NeutralHydrogenAbundance'][:]"
   ]
  },
  {
   "cell_type": "code",
   "execution_count": 98,
   "metadata": {},
   "outputs": [],
   "source": [
    "import matplotlib.pyplot as plt\n",
    "import numpy as n"
   ]
  },
  {
   "cell_type": "code",
   "execution_count": 108,
   "metadata": {},
   "outputs": [
    {
     "data": {
      "image/png": "[encoded data removed]",
      "text/plain": [
       "<matplotlib.figure.Figure at 0x7fd265b92110>"
      ]
     },
     "metadata": {},
     "output_type": "display_data"
    }
   ],
   "source": [
    "cmap = plt.get_cmap('jet')\n",
    "plt.hist2d(x,y,weights=dens,bins=[150,100], cmap = cmap)\n",
    "plt.xlabel('$\\Delta x$ [ckpc/h]')\n",
    "plt.ylabel('$\\Delta y$ [ckpc/h]')\n",
    "plt.colorbar()\n",
    "plt.show()"
   ]
  },
  {
   "cell_type": "code",
   "execution_count": 110,
   "metadata": {},
   "outputs": [
    {
     "data": {
      "image/png": "[encoded data removed]",
      "text/plain": [
       "<matplotlib.figure.Figure at 0x7fd265f72f90>"
      ]
     },
     "metadata": {},
     "output_type": "display_data"
    }
   ],
   "source": [
    "plt.hist2d(x,y,weights=Neutral_H,bins=[150,100], cmap = cmap)\n",
    "plt.xlabel('$\\Delta x$ [ckpc/h]')\n",
    "plt.ylabel('$\\Delta y$ [ckpc/h]')\n",
    "plt.colorbar()\n",
    "plt.savefig(\"m.pdf\",figsize = (100,100),dpi = 300)\n",
    "plt.show()"
   ]
  },
  {
   "cell_type": "code",
   "execution_count": null,
   "metadata": {},
   "outputs": [],
   "source": [
    "for i in Neutral_H:\n",
    "    print(i)"
   ]
  },
  {
   "cell_type": "code",
   "execution_count": 104,
   "metadata": {},
   "outputs": [
    {
     "data": {
      "text/plain": [
       "23563.121"
      ]
     },
     "execution_count": 104,
     "metadata": {},
     "output_type": "execute_result"
    }
   ],
   "source": [
    "x[-1]"
   ]
  },
  {
   "cell_type": "markdown",
   "metadata": {},
   "source": [
    "## What happens in the 2D histogram?"
   ]
  },
  {
   "cell_type": "code",
   "execution_count": 111,
   "metadata": {},
   "outputs": [],
   "source": [
    "x = [1.6, 2.3, 2.7]\n",
    "y = [0.7, 1.8, 1.3]\n",
    "weights = [0.6, 1, 2]"
   ]
  },
  {
   "cell_type": "code",
   "execution_count": 112,
   "metadata": {},
   "outputs": [],
   "source": [
    "bins = [0,1,2,3] "
   ]
  },
  {
   "cell_type": "code",
   "execution_count": 113,
   "metadata": {},
   "outputs": [
    {
     "data": {
      "image/png": "[encoded data removed]",
      "text/plain": [
       "<matplotlib.figure.Figure at 0x7fd265b69e50>"
      ]
     },
     "metadata": {},
     "output_type": "display_data"
    }
   ],
   "source": [
    "sc = plt.scatter(x,y,c=weights, vmin=0)\n",
    "plt.colorbar(sc)\n",
    "\n",
    "plt.xticks(bins)\n",
    "plt.yticks(bins)\n",
    "plt.grid()\n",
    "plt.show()"
   ]
  },
  {
   "cell_type": "code",
   "execution_count": 117,
   "metadata": {},
   "outputs": [
    {
     "name": "stdout",
     "output_type": "stream",
     "text": [
      "[[0.  0.  0. ]\n",
      " [0.6 0.  0. ]\n",
      " [0.  3.  0. ]]\n"
     ]
    }
   ],
   "source": [
    "values, _, _ = np.histogram2d(x,y, bins=bins, weights=weights)\n",
    "print(values)"
   ]
  },
  {
   "cell_type": "code",
   "execution_count": 118,
   "metadata": {},
   "outputs": [
    {
     "data": {
      "image/png": "[encoded data removed]",
      "text/plain": [
       "<matplotlib.figure.Figure at 0x7fd265c9e0d0>"
      ]
     },
     "metadata": {},
     "output_type": "display_data"
    }
   ],
   "source": [
    "h,_, _, image = plt.hist2d(x,y,bins=bins, weights=weights)\n",
    "plt.colorbar(image)\n",
    "plt.show()"
   ]
  },
  {
   "cell_type": "code",
   "execution_count": null,
   "metadata": {},
   "outputs": [],
   "source": []
  },
  {
   "cell_type": "code",
   "execution_count": null,
   "metadata": {},
   "outputs": [],
   "source": []
  },
  {
   "cell_type": "code",
   "execution_count": null,
   "metadata": {},
   "outputs": [],
   "source": []
  },
  {
   "cell_type": "code",
   "execution_count": null,
   "metadata": {},
   "outputs": [],
   "source": []
  },
  {
   "cell_type": "code",
   "execution_count": null,
   "metadata": {},
   "outputs": [],
   "source": []
  },
  {
   "cell_type": "code",
   "execution_count": null,
   "metadata": {},
   "outputs": [],
   "source": []
  },
  {
   "cell_type": "code",
   "execution_count": null,
   "metadata": {},
   "outputs": [],
   "source": []
  },
  {
   "cell_type": "code",
   "execution_count": null,
   "metadata": {},
   "outputs": [],
   "source": []
  },
  {
   "cell_type": "code",
   "execution_count": null,
   "metadata": {},
   "outputs": [],
   "source": []
  },
  {
   "cell_type": "code",
   "execution_count": null,
   "metadata": {},
   "outputs": [],
   "source": []
  }
 ],
 "metadata": {
  "kernelspec": {
   "display_name": "Python 2",
   "language": "python",
   "name": "python2"
  },
  "language_info": {
   "codemirror_mode": {
    "name": "ipython",
    "version": 2
   },
   "file_extension": ".py",
   "mimetype": "text/x-python",
   "name": "python",
   "nbconvert_exporter": "python",
   "pygments_lexer": "ipython2",
   "version": "2.7.14"
  }
 },
 "nbformat": 4,
 "nbformat_minor": 2
}
